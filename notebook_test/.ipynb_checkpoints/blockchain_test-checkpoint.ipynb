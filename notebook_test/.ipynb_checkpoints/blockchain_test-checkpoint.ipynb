{
 "cells": [
  {
   "cell_type": "markdown",
   "metadata": {},
   "source": [
    "# Imports"
   ]
  },
  {
   "cell_type": "code",
   "execution_count": 1,
   "metadata": {},
   "outputs": [],
   "source": [
    "import sys\n",
    "module_path = '..'\n",
    "if module_path not in sys.path:\n",
    "    sys.path.append(module_path)\n",
    "from blockchain import *\n",
    "from generate_blockchain import *"
   ]
  },
  {
   "cell_type": "markdown",
   "metadata": {},
   "source": [
    "# Testing the Blockchain class"
   ]
  },
  {
   "cell_type": "markdown",
   "metadata": {},
   "source": [
    "## Creating an instance"
   ]
  },
  {
   "cell_type": "code",
   "execution_count": 2,
   "metadata": {},
   "outputs": [
    {
     "data": {
      "text/plain": [
       "<blockchain.Blockchain at 0x7fb2e9601c70>"
      ]
     },
     "execution_count": 2,
     "metadata": {},
     "output_type": "execute_result"
    }
   ],
   "source": [
    "blockchain = Blockchain()\n",
    "blockchain"
   ]
  },
  {
   "cell_type": "markdown",
   "metadata": {},
   "source": [
    "## Utility functions"
   ]
  },
  {
   "cell_type": "code",
   "execution_count": 30,
   "metadata": {},
   "outputs": [],
   "source": [
    "def print_blockchain(blockchain):\n",
    "    str_chain = ''\n",
    "    for block in blockchain.chain:\n",
    "        str_chain += '\\n\\t' + str(block)\n",
    "    \n",
    "    ans = [\n",
    "        f'current_transactions = {blockchain.current_transactions}\\n',\n",
    "        f'nodes = {blockchain.nodes}\\n',\n",
    "        f'UTXO = {blockchain.UTXO}\\n',\n",
    "        \n",
    "        f'chain = {str_chain}\\n',\n",
    "        f'merkleroot = {blockchain.merkleroot}\\n\\n'\n",
    "    ]\n",
    "    \n",
    "    \n",
    "    \n",
    "    print(''.join(ans))\n",
    "    return"
   ]
  },
  {
   "cell_type": "code",
   "execution_count": 31,
   "metadata": {},
   "outputs": [
    {
     "name": "stdout",
     "output_type": "stream",
     "text": [
      "current_transactions = []\n",
      "nodes = {'192.168.0.5:5001', '192.168.0.5:5000'}\n",
      "UTXO = {}\n",
      "chain = \n",
      "\t{'index': 1, 'timestamp': 1606380460.3364081, 'transactions': [], 'proof': 100, 'previous_hash': 1, 'merkleroot': 'a117288688ad59388f308b82aa30755bcd67d6461625521d70a42c11912dcc05'}\n",
      "\t{'index': 2, 'timestamp': 1606380460.4074318, 'transactions': [], 'proof': 35293, 'previous_hash': '197e5368cc6d0bcc77a9872dfc24d5db18ca7f8185f27ad64f0adb6826139864', 'merkleroot': 'ed0aa27b838d34248c7983daf43afceea4c8adf1739e1e25f4f41c4049e9bcc8'}\n",
      "merkleroot = None\n",
      "\n",
      "\n"
     ]
    }
   ],
   "source": [
    "print_blockchain(blockchain)"
   ]
  },
  {
   "cell_type": "code",
   "execution_count": 5,
   "metadata": {},
   "outputs": [],
   "source": [
    "def get_last_proof(blockchain):\n",
    "    return blockchain.chain[-1]['proof']"
   ]
  },
  {
   "cell_type": "code",
   "execution_count": 6,
   "metadata": {
    "scrolled": true
   },
   "outputs": [
    {
     "data": {
      "text/plain": [
       "100"
      ]
     },
     "execution_count": 6,
     "metadata": {},
     "output_type": "execute_result"
    }
   ],
   "source": [
    "get_last_proof(blockchain)"
   ]
  },
  {
   "cell_type": "markdown",
   "metadata": {},
   "source": [
    "## Adding a new block"
   ]
  },
  {
   "cell_type": "code",
   "execution_count": 7,
   "metadata": {},
   "outputs": [
    {
     "data": {
      "text/plain": [
       "35293"
      ]
     },
     "execution_count": 7,
     "metadata": {},
     "output_type": "execute_result"
    }
   ],
   "source": [
    "proof = blockchain.proof_of_work(get_last_proof(blockchain))\n",
    "proof"
   ]
  },
  {
   "cell_type": "code",
   "execution_count": 8,
   "metadata": {},
   "outputs": [
    {
     "data": {
      "text/plain": [
       "{'index': 2,\n",
       " 'timestamp': 1606380460.4074318,\n",
       " 'transactions': [],\n",
       " 'proof': 35293,\n",
       " 'previous_hash': '197e5368cc6d0bcc77a9872dfc24d5db18ca7f8185f27ad64f0adb6826139864',\n",
       " 'merkleroot': 'ed0aa27b838d34248c7983daf43afceea4c8adf1739e1e25f4f41c4049e9bcc8'}"
      ]
     },
     "execution_count": 8,
     "metadata": {},
     "output_type": "execute_result"
    }
   ],
   "source": [
    "blockchain.new_block(proof)"
   ]
  },
  {
   "cell_type": "code",
   "execution_count": 9,
   "metadata": {},
   "outputs": [
    {
     "name": "stdout",
     "output_type": "stream",
     "text": [
      "current_transactions = []\n",
      "nodes = set()\n",
      "UTXO = {}\n",
      "chain = \n",
      "\t{'index': 1, 'timestamp': 1606380460.3364081, 'transactions': [], 'proof': 100, 'previous_hash': 1, 'merkleroot': 'a117288688ad59388f308b82aa30755bcd67d6461625521d70a42c11912dcc05'}\n",
      "\t{'index': 2, 'timestamp': 1606380460.4074318, 'transactions': [], 'proof': 35293, 'previous_hash': '197e5368cc6d0bcc77a9872dfc24d5db18ca7f8185f27ad64f0adb6826139864', 'merkleroot': 'ed0aa27b838d34248c7983daf43afceea4c8adf1739e1e25f4f41c4049e9bcc8'}\n",
      "\n"
     ]
    }
   ],
   "source": [
    "print_blockchain(blockchain)"
   ]
  },
  {
   "cell_type": "markdown",
   "metadata": {},
   "source": [
    "## Adding new nodes (sender and recipient)"
   ]
  },
  {
   "cell_type": "code",
   "execution_count": 10,
   "metadata": {},
   "outputs": [],
   "source": [
    "dic_nodes = {\n",
    "    'Dylan': 'http://192.168.0.5:5000',\n",
    "    'Tony': 'http://192.168.0.5:5001'\n",
    "}\n",
    "\n",
    "blockchain.register_node('http://192.168.0.5:5000')\n",
    "blockchain.register_node('http://192.168.0.5:5001')"
   ]
  },
  {
   "cell_type": "code",
   "execution_count": 11,
   "metadata": {},
   "outputs": [
    {
     "name": "stdout",
     "output_type": "stream",
     "text": [
      "current_transactions = []\n",
      "nodes = {'192.168.0.5:5001', '192.168.0.5:5000'}\n",
      "UTXO = {}\n",
      "chain = \n",
      "\t{'index': 1, 'timestamp': 1606380460.3364081, 'transactions': [], 'proof': 100, 'previous_hash': 1, 'merkleroot': 'a117288688ad59388f308b82aa30755bcd67d6461625521d70a42c11912dcc05'}\n",
      "\t{'index': 2, 'timestamp': 1606380460.4074318, 'transactions': [], 'proof': 35293, 'previous_hash': '197e5368cc6d0bcc77a9872dfc24d5db18ca7f8185f27ad64f0adb6826139864', 'merkleroot': 'ed0aa27b838d34248c7983daf43afceea4c8adf1739e1e25f4f41c4049e9bcc8'}\n",
      "\n"
     ]
    }
   ],
   "source": [
    "print_blockchain(blockchain)"
   ]
  },
  {
   "cell_type": "markdown",
   "metadata": {},
   "source": [
    "# Using generate_blockchain.py"
   ]
  },
  {
   "cell_type": "code",
   "execution_count": 32,
   "metadata": {},
   "outputs": [
    {
     "data": {
      "text/plain": [
       "<generate_blockchain.Actor at 0x7fb310263c40>"
      ]
     },
     "execution_count": 32,
     "metadata": {},
     "output_type": "execute_result"
    }
   ],
   "source": [
    "admin = Actor(NODE_ADRESS, ADMIN_PRIVATE_KEY)\n",
    "admin"
   ]
  },
  {
   "cell_type": "code",
   "execution_count": 33,
   "metadata": {},
   "outputs": [],
   "source": [
    "suppliers = [Actor(NODE_ADRESS) for _ in range(10)]"
   ]
  },
  {
   "cell_type": "code",
   "execution_count": 34,
   "metadata": {},
   "outputs": [
    {
     "data": {
      "text/plain": [
       "<Response [201]>"
      ]
     },
     "execution_count": 34,
     "metadata": {},
     "output_type": "execute_result"
    }
   ],
   "source": [
    "admin.send(suppliers[0], 123)"
   ]
  },
  {
   "cell_type": "code",
   "execution_count": 35,
   "metadata": {},
   "outputs": [
    {
     "data": {
      "text/plain": [
       "{'chain': [{'index': 1,\n",
       "   'merkleroot': 'a117288688ad59388f308b82aa30755bcd67d6461625521d70a42c11912dcc05',\n",
       "   'previous_hash': 1,\n",
       "   'proof': 100,\n",
       "   'timestamp': 1606380763.3955688,\n",
       "   'transactions': []}],\n",
       " 'length': 1}"
      ]
     },
     "execution_count": 35,
     "metadata": {},
     "output_type": "execute_result"
    }
   ],
   "source": [
    "chain()"
   ]
  },
  {
   "cell_type": "code",
   "execution_count": 36,
   "metadata": {},
   "outputs": [
    {
     "data": {
      "text/plain": [
       "<Response [201]>"
      ]
     },
     "execution_count": 36,
     "metadata": {},
     "output_type": "execute_result"
    }
   ],
   "source": [
    "suppliers[0].send(suppliers[1], 123)"
   ]
  },
  {
   "cell_type": "code",
   "execution_count": 37,
   "metadata": {},
   "outputs": [
    {
     "data": {
      "text/plain": [
       "{'chain': [{'index': 1,\n",
       "   'merkleroot': 'a117288688ad59388f308b82aa30755bcd67d6461625521d70a42c11912dcc05',\n",
       "   'previous_hash': 1,\n",
       "   'proof': 100,\n",
       "   'timestamp': 1606380763.3955688,\n",
       "   'transactions': []}],\n",
       " 'length': 1}"
      ]
     },
     "execution_count": 37,
     "metadata": {},
     "output_type": "execute_result"
    }
   ],
   "source": [
    "chain()"
   ]
  },
  {
   "cell_type": "code",
   "execution_count": 38,
   "metadata": {},
   "outputs": [
    {
     "data": {
      "text/plain": [
       "{'index': 2,\n",
       " 'merkleroot': 'ed0aa27b838d34248c7983daf43afceea4c8adf1739e1e25f4f41c4049e9bcc8',\n",
       " 'message': 'New Block Forged',\n",
       " 'previous_hash': '458ee4ebe3aaf0d2222a282d817ceaf803a4635df438bc05b3945a83f696f69e',\n",
       " 'proof': 35293,\n",
       " 'transactions': [{'batchID': 123,\n",
       "   'recipient': '-----BEGIN PUBLIC KEY-----\\nMFYwEAYHKoZIzj0CAQYFK4EEAAoDQgAEMQvsU+SjKNL4UzYa2P01ghzeyyvTvzfe\\n0QLewHVuunuGYOfkfY9F23mFiTz5JzT5MdauFlumlmprUT4g3a8jUA==\\n-----END PUBLIC KEY-----\\n',\n",
       "   'sender': '-----BEGIN PUBLIC KEY-----\\nMFYwEAYHKoZIzj0CAQYFK4EEAAoDQgAE7MTrJ3EZkwF/cz/Hv9OmmK1kI3oRQ4ow\\nzqZ0wDQaqMkCSaoNdDgN6Hvj38E0VbwZ0cuEnQmuhMjxBJ61EHwiJQ==\\n-----END PUBLIC KEY-----\\n',\n",
       "   'signature': 'MEQCIE4Sld7EmpAUHD1xLMEoolWB6DJY6zEUydcQ2j5bL50RAiA4AaYPV/BIQXC9AsJy/oeVbbVXK8T83fTo9Fw1PB5nKg==',\n",
       "   'transaction_input': ''},\n",
       "  {'batchID': 123,\n",
       "   'recipient': '-----BEGIN PUBLIC KEY-----\\nMFYwEAYHKoZIzj0CAQYFK4EEAAoDQgAE/+9BHZLmELOiiYvFOPIcr9iit7YYLfkh\\nRhWIPSLYzagPSscUCjAXR5Xfop7Lb4xia4GT73TB3bw3OglQWNNHdg==\\n-----END PUBLIC KEY-----\\n',\n",
       "   'sender': '-----BEGIN PUBLIC KEY-----\\nMFYwEAYHKoZIzj0CAQYFK4EEAAoDQgAEMQvsU+SjKNL4UzYa2P01ghzeyyvTvzfe\\n0QLewHVuunuGYOfkfY9F23mFiTz5JzT5MdauFlumlmprUT4g3a8jUA==\\n-----END PUBLIC KEY-----\\n',\n",
       "   'signature': 'MEYCIQCMeoLOHBbpAJcRJ+XUJQk1sooFoYvMZrH+3U+JaZNuCwIhAMqZsZML+z4Yh4E2wifY+2ODchXgHy782FSFpvO1PiEv',\n",
       "   'transaction_input': '69bc1572c8811a762aa6f8fca9c275bb1ca992b6ee27135dc761697034e73e1b'}]}"
      ]
     },
     "execution_count": 38,
     "metadata": {},
     "output_type": "execute_result"
    }
   ],
   "source": [
    "mine()"
   ]
  },
  {
   "cell_type": "code",
   "execution_count": 39,
   "metadata": {},
   "outputs": [
    {
     "data": {
      "text/plain": [
       "<Response [201]>"
      ]
     },
     "execution_count": 39,
     "metadata": {},
     "output_type": "execute_result"
    }
   ],
   "source": [
    "suppliers[1].send(suppliers[5], 123)"
   ]
  },
  {
   "cell_type": "code",
   "execution_count": 40,
   "metadata": {
    "scrolled": true
   },
   "outputs": [
    {
     "data": {
      "text/plain": [
       "{'index': 3,\n",
       " 'merkleroot': 'a4423c16f747a342db766353c7967ecfc7c25daabd0011edb3c079a1e7697119',\n",
       " 'message': 'New Block Forged',\n",
       " 'previous_hash': 'e6c6a08d5897f5257d43938516c19675bbe6c26ff972d44ff235270c61430a3f',\n",
       " 'proof': 35089,\n",
       " 'transactions': [{'batchID': 123,\n",
       "   'recipient': '-----BEGIN PUBLIC KEY-----\\nMFYwEAYHKoZIzj0CAQYFK4EEAAoDQgAEZGTCHiMYegETMadbKocLMKdYUIkZZNbg\\nFrcKDk4XHmPtqaleUMWafqSCxRkIn5haXCdoOaaJC6wBfitEtCAZ7w==\\n-----END PUBLIC KEY-----\\n',\n",
       "   'sender': '-----BEGIN PUBLIC KEY-----\\nMFYwEAYHKoZIzj0CAQYFK4EEAAoDQgAE/+9BHZLmELOiiYvFOPIcr9iit7YYLfkh\\nRhWIPSLYzagPSscUCjAXR5Xfop7Lb4xia4GT73TB3bw3OglQWNNHdg==\\n-----END PUBLIC KEY-----\\n',\n",
       "   'signature': 'MEYCIQDuKqqYZ/m+G86ciJZPRGMmlQlb8JhcnshLioMCsYJ9YQIhAPUE8XgDAF2gZKttdlua2EyVD7WPS0eNBis+48agN2/f',\n",
       "   'transaction_input': '67c16c010e696f60fd86ad73f447f18e20529d93f921b84e5d19e68a4c49a2d6'}]}"
      ]
     },
     "execution_count": 40,
     "metadata": {},
     "output_type": "execute_result"
    }
   ],
   "source": [
    "mine()"
   ]
  },
  {
   "cell_type": "code",
   "execution_count": 42,
   "metadata": {},
   "outputs": [
    {
     "data": {
      "text/plain": [
       "[123, 123, 123]"
      ]
     },
     "execution_count": 42,
     "metadata": {},
     "output_type": "execute_result"
    }
   ],
   "source": [
    "history_POST(batchID=123)"
   ]
  },
  {
   "cell_type": "code",
   "execution_count": null,
   "metadata": {},
   "outputs": [],
   "source": []
  }
 ],
 "metadata": {
  "kernelspec": {
   "display_name": "Python 3",
   "language": "python",
   "name": "python3"
  },
  "language_info": {
   "codemirror_mode": {
    "name": "ipython",
    "version": 3
   },
   "file_extension": ".py",
   "mimetype": "text/x-python",
   "name": "python",
   "nbconvert_exporter": "python",
   "pygments_lexer": "ipython3",
   "version": "3.8.5"
  },
  "toc": {
   "base_numbering": 1,
   "nav_menu": {},
   "number_sections": true,
   "sideBar": true,
   "skip_h1_title": false,
   "title_cell": "Table of Contents",
   "title_sidebar": "Contents",
   "toc_cell": false,
   "toc_position": {},
   "toc_section_display": true,
   "toc_window_display": false
  },
  "varInspector": {
   "cols": {
    "lenName": 16,
    "lenType": 16,
    "lenVar": 40
   },
   "kernels_config": {
    "python": {
     "delete_cmd_postfix": "",
     "delete_cmd_prefix": "del ",
     "library": "var_list.py",
     "varRefreshCmd": "print(var_dic_list())"
    },
    "r": {
     "delete_cmd_postfix": ") ",
     "delete_cmd_prefix": "rm(",
     "library": "var_list.r",
     "varRefreshCmd": "cat(var_dic_list()) "
    }
   },
   "types_to_exclude": [
    "module",
    "function",
    "builtin_function_or_method",
    "instance",
    "_Feature"
   ],
   "window_display": false
  }
 },
 "nbformat": 4,
 "nbformat_minor": 4
}
