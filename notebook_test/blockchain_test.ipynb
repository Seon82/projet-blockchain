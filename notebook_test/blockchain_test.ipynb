{
 "cells": [
  {
   "cell_type": "markdown",
   "metadata": {},
   "source": [
    "# Imports"
   ]
  },
  {
   "cell_type": "code",
   "execution_count": 1,
   "metadata": {},
   "outputs": [],
   "source": [
    "import sys\n",
    "module_path = '..'\n",
    "if module_path not in sys.path:\n",
    "    sys.path.append(module_path)\n",
    "from blockchain import *\n",
    "from generate_blockchain import *"
   ]
  },
  {
   "cell_type": "markdown",
   "metadata": {},
   "source": [
    "# Testing the Blockchain class"
   ]
  },
  {
   "cell_type": "markdown",
   "metadata": {},
   "source": [
    "## Creating an instance"
   ]
  },
  {
   "cell_type": "code",
   "execution_count": 2,
   "metadata": {},
   "outputs": [
    {
     "data": {
      "text/plain": [
       "<blockchain.Blockchain at 0x2519c9d96d0>"
      ]
     },
     "execution_count": 2,
     "metadata": {},
     "output_type": "execute_result"
    }
   ],
   "source": [
    "blockchain = Blockchain()\n",
    "blockchain"
   ]
  },
  {
   "cell_type": "markdown",
   "metadata": {},
   "source": [
    "## Utility functions"
   ]
  },
  {
   "cell_type": "code",
   "execution_count": 3,
   "metadata": {},
   "outputs": [],
   "source": [
    "def print_blockchain(blockchain):\n",
    "    str_chain = ''\n",
    "    for block in blockchain.chain:\n",
    "        str_chain += '\\n\\t' + str(block)\n",
    "    \n",
    "    ans = [\n",
    "        f'current_transactions = {blockchain.current_transactions}\\n',\n",
    "        f'nodes = {blockchain.nodes}\\n',\n",
    "        f'UTXO = {blockchain.UTXO}\\n',\n",
    "        \n",
    "        f'chain = {str_chain}\\n',\n",
    "    ]\n",
    "    \n",
    "    \n",
    "    \n",
    "    print(''.join(ans))\n",
    "    return"
   ]
  },
  {
   "cell_type": "code",
   "execution_count": 4,
   "metadata": {},
   "outputs": [
    {
     "name": "stdout",
     "output_type": "stream",
     "text": [
      "current_transactions = []\n",
      "nodes = set()\n",
      "UTXO = {}\n",
      "chain = \n",
      "\t{'index': 1, 'timestamp': 1606341741.7326293, 'transactions': [], 'proof': 100, 'previous_hash': 1}\n",
      "\n"
     ]
    }
   ],
   "source": [
    "print_blockchain(blockchain)"
   ]
  },
  {
   "cell_type": "code",
   "execution_count": 5,
   "metadata": {},
   "outputs": [],
   "source": [
    "def get_last_proof(blockchain):\n",
    "    return blockchain.chain[-1]['proof']"
   ]
  },
  {
   "cell_type": "code",
   "execution_count": 6,
   "metadata": {
    "scrolled": true
   },
   "outputs": [
    {
     "data": {
      "text/plain": [
       "100"
      ]
     },
     "execution_count": 6,
     "metadata": {},
     "output_type": "execute_result"
    }
   ],
   "source": [
    "get_last_proof(blockchain)"
   ]
  },
  {
   "cell_type": "markdown",
   "metadata": {},
   "source": [
    "## Adding a new block"
   ]
  },
  {
   "cell_type": "code",
   "execution_count": 7,
   "metadata": {},
   "outputs": [
    {
     "data": {
      "text/plain": [
       "35293"
      ]
     },
     "execution_count": 7,
     "metadata": {},
     "output_type": "execute_result"
    }
   ],
   "source": [
    "proof = blockchain.proof_of_work(get_last_proof(blockchain))\n",
    "proof"
   ]
  },
  {
   "cell_type": "code",
   "execution_count": 8,
   "metadata": {},
   "outputs": [
    {
     "data": {
      "text/plain": [
       "{'index': 2,\n",
       " 'timestamp': 1606341756.4417517,\n",
       " 'transactions': [],\n",
       " 'proof': 35293,\n",
       " 'previous_hash': '3559a019627965cad866ed4eca71c32d78f13003db525ba65fe952980fd77c9e'}"
      ]
     },
     "execution_count": 8,
     "metadata": {},
     "output_type": "execute_result"
    }
   ],
   "source": [
    "blockchain.new_block(proof)"
   ]
  },
  {
   "cell_type": "code",
   "execution_count": 9,
   "metadata": {},
   "outputs": [
    {
     "name": "stdout",
     "output_type": "stream",
     "text": [
      "current_transactions = []\n",
      "nodes = set()\n",
      "UTXO = {}\n",
      "chain = \n",
      "\t{'index': 1, 'timestamp': 1606341741.7326293, 'transactions': [], 'proof': 100, 'previous_hash': 1}\n",
      "\t{'index': 2, 'timestamp': 1606341756.4417517, 'transactions': [], 'proof': 35293, 'previous_hash': '3559a019627965cad866ed4eca71c32d78f13003db525ba65fe952980fd77c9e'}\n",
      "\n"
     ]
    }
   ],
   "source": [
    "print_blockchain(blockchain)"
   ]
  },
  {
   "cell_type": "markdown",
   "metadata": {},
   "source": [
    "## Adding new nodes (sender and recipient)"
   ]
  },
  {
   "cell_type": "code",
   "execution_count": 10,
   "metadata": {},
   "outputs": [],
   "source": [
    "dic_nodes = {\n",
    "    'Dylan': 'http://192.168.0.5:5000',\n",
    "    'Tony': 'http://192.168.0.5:5001'\n",
    "}\n",
    "\n",
    "blockchain.register_node('http://192.168.0.5:5000')\n",
    "blockchain.register_node('http://192.168.0.5:5001')"
   ]
  },
  {
   "cell_type": "code",
   "execution_count": 11,
   "metadata": {},
   "outputs": [
    {
     "name": "stdout",
     "output_type": "stream",
     "text": [
      "current_transactions = []\n",
      "nodes = {'192.168.0.5:5000', '192.168.0.5:5001'}\n",
      "UTXO = {}\n",
      "chain = \n",
      "\t{'index': 1, 'timestamp': 1606341741.7326293, 'transactions': [], 'proof': 100, 'previous_hash': 1}\n",
      "\t{'index': 2, 'timestamp': 1606341756.4417517, 'transactions': [], 'proof': 35293, 'previous_hash': '3559a019627965cad866ed4eca71c32d78f13003db525ba65fe952980fd77c9e'}\n",
      "\n"
     ]
    }
   ],
   "source": [
    "print_blockchain(blockchain)"
   ]
  },
  {
   "cell_type": "markdown",
   "metadata": {},
   "source": [
    "# Using generate_blockchain.py"
   ]
  },
  {
   "cell_type": "code",
   "execution_count": 12,
   "metadata": {},
   "outputs": [
    {
     "data": {
      "text/plain": [
       "<generate_blockchain.Actor at 0x2519d03b3a0>"
      ]
     },
     "execution_count": 12,
     "metadata": {},
     "output_type": "execute_result"
    }
   ],
   "source": [
    "admin = Actor(NODE_ADRESS, ADMIN_PRIVATE_KEY)\n",
    "admin"
   ]
  },
  {
   "cell_type": "code",
   "execution_count": 13,
   "metadata": {},
   "outputs": [],
   "source": [
    "suppliers = [Actor(NODE_ADRESS) for _ in range(10)]"
   ]
  },
  {
   "cell_type": "code",
   "execution_count": 14,
   "metadata": {},
   "outputs": [
    {
     "data": {
      "text/plain": [
       "<Response [201]>"
      ]
     },
     "execution_count": 14,
     "metadata": {},
     "output_type": "execute_result"
    }
   ],
   "source": [
    "admin.send(suppliers[0], 123)"
   ]
  },
  {
   "cell_type": "code",
   "execution_count": 15,
   "metadata": {},
   "outputs": [
    {
     "data": {
      "text/plain": [
       "<Response [201]>"
      ]
     },
     "execution_count": 15,
     "metadata": {},
     "output_type": "execute_result"
    }
   ],
   "source": [
    "suppliers[0].send(suppliers[1], 123)"
   ]
  },
  {
   "cell_type": "code",
   "execution_count": 16,
   "metadata": {},
   "outputs": [
    {
     "data": {
      "text/plain": [
       "{'index': 4,\n",
       " 'message': 'New Block Forged',\n",
       " 'previous_hash': 'f2b58ee39d1651e8ec1db8bd1292db5bd9afb04e333f00138a7ed7d83bfc5463',\n",
       " 'proof': 119678,\n",
       " 'transactions': [{'batchID': 123,\n",
       "   'recipient': '-----BEGIN PUBLIC KEY-----\\nMFYwEAYHKoZIzj0CAQYFK4EEAAoDQgAEEL52tfGHWlCPS5LdAHNpwHUqkVgEM96e\\nMVrjumwVcZ/7T6ZL2mVZatr8Ow0iTYnFZdgPD1VR8GVsSOcDTw5nVQ==\\n-----END PUBLIC KEY-----\\n',\n",
       "   'sender': '-----BEGIN PUBLIC KEY-----\\nMFYwEAYHKoZIzj0CAQYFK4EEAAoDQgAE7MTrJ3EZkwF/cz/Hv9OmmK1kI3oRQ4ow\\nzqZ0wDQaqMkCSaoNdDgN6Hvj38E0VbwZ0cuEnQmuhMjxBJ61EHwiJQ==\\n-----END PUBLIC KEY-----\\n',\n",
       "   'signature': 'MEUCIQCPnt7bBM26IHSDES1EHTfPw1vgIZSfFheFUZ4iSRjw/wIgKbBn5emhyql8PV4CF5ktT945bqrP1pJu66a73+xESyU=',\n",
       "   'transaction_input': ''},\n",
       "  {'batchID': 123,\n",
       "   'recipient': '-----BEGIN PUBLIC KEY-----\\nMFYwEAYHKoZIzj0CAQYFK4EEAAoDQgAEy0vMTKwu6Vzib4PzV4wzDIISpSUdVpX/\\nIHq0IsBAr5S2BblhqL7D8YfH5XCquATIl6V1xoqsNvX46HDhcGERdA==\\n-----END PUBLIC KEY-----\\n',\n",
       "   'sender': '-----BEGIN PUBLIC KEY-----\\nMFYwEAYHKoZIzj0CAQYFK4EEAAoDQgAEEL52tfGHWlCPS5LdAHNpwHUqkVgEM96e\\nMVrjumwVcZ/7T6ZL2mVZatr8Ow0iTYnFZdgPD1VR8GVsSOcDTw5nVQ==\\n-----END PUBLIC KEY-----\\n',\n",
       "   'signature': 'MEQCIH5Q8Bh1xGLy/xEn6T3j77DDwjnlS3E11z4jCWXEh6hoAiB9P7DrkmLpH9ZmEATqiHucGn84/nU89FAGvSYn346vpg==',\n",
       "   'transaction_input': 'f5072fd4a9869c340e05b963c6f3deed0c0ff80656ed79c50402caabf865aaa7'}]}"
      ]
     },
     "execution_count": 16,
     "metadata": {},
     "output_type": "execute_result"
    }
   ],
   "source": [
    "mine()"
   ]
  },
  {
   "cell_type": "code",
   "execution_count": 17,
   "metadata": {},
   "outputs": [
    {
     "data": {
      "text/plain": [
       "<Response [201]>"
      ]
     },
     "execution_count": 17,
     "metadata": {},
     "output_type": "execute_result"
    }
   ],
   "source": [
    "suppliers[1].send(suppliers[5], 123)"
   ]
  },
  {
   "cell_type": "code",
   "execution_count": 18,
   "metadata": {},
   "outputs": [
    {
     "data": {
      "text/plain": [
       "{'index': 5,\n",
       " 'message': 'New Block Forged',\n",
       " 'previous_hash': 'd421de64dc3a8cbc16aa8f0a7834c346e5e3e7b8034c818f136b5ddc188cd6af',\n",
       " 'proof': 146502,\n",
       " 'transactions': [{'batchID': 123,\n",
       "   'recipient': '-----BEGIN PUBLIC KEY-----\\nMFYwEAYHKoZIzj0CAQYFK4EEAAoDQgAE2Rkgj2t+MFxV3ofzyyGlExy6kjadlVBR\\nBxzC4ZgIZ61IUd4GZQATB60+GdITeLs547uFTfdYLEp6hPAf+KILOA==\\n-----END PUBLIC KEY-----\\n',\n",
       "   'sender': '-----BEGIN PUBLIC KEY-----\\nMFYwEAYHKoZIzj0CAQYFK4EEAAoDQgAEy0vMTKwu6Vzib4PzV4wzDIISpSUdVpX/\\nIHq0IsBAr5S2BblhqL7D8YfH5XCquATIl6V1xoqsNvX46HDhcGERdA==\\n-----END PUBLIC KEY-----\\n',\n",
       "   'signature': 'MEUCIEjRmiTz/AWMpN4WWcP1Fgdjk7Wvo8f/T1bCEI3cHHZCAiEAhtXiBBZYOFBfMoxZQXuYaqs6Egrl2y5qIsjfxYK9AOk=',\n",
       "   'transaction_input': '308b0266f5a3c4db2fe4350fb892d578cfe4e04b4841126f60ed5e1d7e1f6fa7'}]}"
      ]
     },
     "execution_count": 18,
     "metadata": {},
     "output_type": "execute_result"
    }
   ],
   "source": [
    "mine()"
   ]
  },
  {
   "cell_type": "code",
   "execution_count": 19,
   "metadata": {},
   "outputs": [
    {
     "data": {
      "text/plain": [
       "[123, 123, 123, 123, 123, 123]"
      ]
     },
     "execution_count": 19,
     "metadata": {},
     "output_type": "execute_result"
    }
   ],
   "source": [
    "history_POST(batchID=123)"
   ]
  },
  {
   "cell_type": "code",
   "execution_count": null,
   "metadata": {},
   "outputs": [],
   "source": []
  },
  {
   "cell_type": "code",
   "execution_count": null,
   "metadata": {},
   "outputs": [],
   "source": []
  }
 ],
 "metadata": {
  "kernelspec": {
   "display_name": "Python 3",
   "language": "python",
   "name": "python3"
  },
  "language_info": {
   "codemirror_mode": {
    "name": "ipython",
    "version": 3
   },
   "file_extension": ".py",
   "mimetype": "text/x-python",
   "name": "python",
   "nbconvert_exporter": "python",
   "pygments_lexer": "ipython3",
   "version": "3.8.3"
  },
  "toc": {
   "base_numbering": 1,
   "nav_menu": {},
   "number_sections": true,
   "sideBar": true,
   "skip_h1_title": false,
   "title_cell": "Table of Contents",
   "title_sidebar": "Contents",
   "toc_cell": false,
   "toc_position": {},
   "toc_section_display": true,
   "toc_window_display": false
  },
  "varInspector": {
   "cols": {
    "lenName": 16,
    "lenType": 16,
    "lenVar": 40
   },
   "kernels_config": {
    "python": {
     "delete_cmd_postfix": "",
     "delete_cmd_prefix": "del ",
     "library": "var_list.py",
     "varRefreshCmd": "print(var_dic_list())"
    },
    "r": {
     "delete_cmd_postfix": ") ",
     "delete_cmd_prefix": "rm(",
     "library": "var_list.r",
     "varRefreshCmd": "cat(var_dic_list()) "
    }
   },
   "types_to_exclude": [
    "module",
    "function",
    "builtin_function_or_method",
    "instance",
    "_Feature"
   ],
   "window_display": false
  }
 },
 "nbformat": 4,
 "nbformat_minor": 4
}
