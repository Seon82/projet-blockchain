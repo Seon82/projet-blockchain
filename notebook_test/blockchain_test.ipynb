{
 "cells": [
  {
   "cell_type": "markdown",
   "metadata": {},
   "source": [
    "# Imports"
   ]
  },
  {
   "cell_type": "code",
   "execution_count": 1,
   "metadata": {},
   "outputs": [],
   "source": [
    "import sys\n",
    "module_path = '..'\n",
    "if module_path not in sys.path:\n",
    "    sys.path.append(module_path)\n",
    "from blockchain import *"
   ]
  },
  {
   "cell_type": "markdown",
   "metadata": {},
   "source": [
    "# Testing the Blockchain class"
   ]
  },
  {
   "cell_type": "markdown",
   "metadata": {},
   "source": [
    "## Creating an instance"
   ]
  },
  {
   "cell_type": "code",
   "execution_count": 16,
   "metadata": {},
   "outputs": [
    {
     "data": {
      "text/plain": [
       "<blockchain.Blockchain at 0x7f8c89343490>"
      ]
     },
     "execution_count": 16,
     "metadata": {},
     "output_type": "execute_result"
    }
   ],
   "source": [
    "blockchain = Blockchain()\n",
    "blockchain"
   ]
  },
  {
   "cell_type": "markdown",
   "metadata": {},
   "source": [
    "## Utility functions"
   ]
  },
  {
   "cell_type": "code",
   "execution_count": 20,
   "metadata": {},
   "outputs": [],
   "source": [
    "def print_blockchain(blockchain):\n",
    "    str_chain = ''\n",
    "    for block in blockchain.chain:\n",
    "        str_chain += '\\n\\t' + str(block)\n",
    "    \n",
    "    ans = [\n",
    "        f'current_transactions = {blockchain.current_transactions}\\n',\n",
    "        f'nodes = {blockchain.nodes}\\n',\n",
    "        f'UTXO = {blockchain.UTXO}\\n',\n",
    "        \n",
    "        f'chain = {str_chain}\\n',\n",
    "    ]\n",
    "    \n",
    "    \n",
    "    \n",
    "    print(''.join(ans))\n",
    "    return"
   ]
  },
  {
   "cell_type": "code",
   "execution_count": 21,
   "metadata": {},
   "outputs": [
    {
     "name": "stdout",
     "output_type": "stream",
     "text": [
      "current_transactions = []\n",
      "nodes = set()\n",
      "UTXO = []\n",
      "chain = \n",
      "\t{'index': 1, 'timestamp': 1606302669.093492, 'transactions': [], 'proof': 100, 'previous_hash': 1}\n",
      "\n"
     ]
    }
   ],
   "source": [
    "print_blockchain(blockchain)"
   ]
  },
  {
   "cell_type": "code",
   "execution_count": 22,
   "metadata": {},
   "outputs": [],
   "source": [
    "def get_last_proof(blockchain):\n",
    "    return blockchain.chain[-1]['proof']"
   ]
  },
  {
   "cell_type": "code",
   "execution_count": 23,
   "metadata": {
    "scrolled": true
   },
   "outputs": [
    {
     "data": {
      "text/plain": [
       "100"
      ]
     },
     "execution_count": 23,
     "metadata": {},
     "output_type": "execute_result"
    }
   ],
   "source": [
    "get_last_proof(blockchain)"
   ]
  },
  {
   "cell_type": "markdown",
   "metadata": {},
   "source": [
    "## Adding a new block"
   ]
  },
  {
   "cell_type": "code",
   "execution_count": 24,
   "metadata": {},
   "outputs": [
    {
     "data": {
      "text/plain": [
       "35293"
      ]
     },
     "execution_count": 24,
     "metadata": {},
     "output_type": "execute_result"
    }
   ],
   "source": [
    "proof = block.proof_of_work(get_last_proof(blockchain))\n",
    "proof"
   ]
  },
  {
   "cell_type": "code",
   "execution_count": 25,
   "metadata": {},
   "outputs": [
    {
     "data": {
      "text/plain": [
       "{'index': 2,\n",
       " 'timestamp': 1606302846.182276,\n",
       " 'transactions': [],\n",
       " 'proof': 35293,\n",
       " 'previous_hash': '00341dae29202f278487c5137dd4c051f32f26da0e27ab28e8e210e0eb6085b0'}"
      ]
     },
     "execution_count": 25,
     "metadata": {},
     "output_type": "execute_result"
    }
   ],
   "source": [
    "blockchain.new_block(proof)"
   ]
  },
  {
   "cell_type": "code",
   "execution_count": 26,
   "metadata": {},
   "outputs": [
    {
     "name": "stdout",
     "output_type": "stream",
     "text": [
      "current_transactions = []\n",
      "nodes = set()\n",
      "UTXO = []\n",
      "chain = \n",
      "\t{'index': 1, 'timestamp': 1606302669.093492, 'transactions': [], 'proof': 100, 'previous_hash': 1}\n",
      "\t{'index': 2, 'timestamp': 1606302846.182276, 'transactions': [], 'proof': 35293, 'previous_hash': '00341dae29202f278487c5137dd4c051f32f26da0e27ab28e8e210e0eb6085b0'}\n",
      "\n"
     ]
    }
   ],
   "source": [
    "print_blockchain(blockchain)"
   ]
  },
  {
   "cell_type": "markdown",
   "metadata": {},
   "source": [
    "## Adding new nodes (sender and recipient)"
   ]
  },
  {
   "cell_type": "code",
   "execution_count": 27,
   "metadata": {},
   "outputs": [],
   "source": [
    "dic_nodes = {\n",
    "    'Dylan': 'http://192.168.0.5:5000',\n",
    "    'Tony': 'http://192.168.0.5:5001'\n",
    "}\n",
    "\n",
    "blockchain.register_node('http://192.168.0.5:5000')\n",
    "blockchain.register_node('http://192.168.0.5:5001')"
   ]
  },
  {
   "cell_type": "code",
   "execution_count": 28,
   "metadata": {},
   "outputs": [
    {
     "name": "stdout",
     "output_type": "stream",
     "text": [
      "current_transactions = []\n",
      "chain = [{'index': 1, 'timestamp': 1606302669.093492, 'transactions': [], 'proof': 100, 'previous_hash': 1}, {'index': 2, 'timestamp': 1606302846.182276, 'transactions': [], 'proof': 35293, 'previous_hash': '00341dae29202f278487c5137dd4c051f32f26da0e27ab28e8e210e0eb6085b0'}]\n",
      "nodes = {'192.168.0.5:5000', '192.168.0.5:5001'}\n",
      "UTXO = []\n"
     ]
    }
   ],
   "source": [
    "print_block(blockchain)"
   ]
  },
  {
   "cell_type": "markdown",
   "metadata": {},
   "source": [
    "## Adding a new transaction"
   ]
  },
  {
   "cell_type": "code",
   "execution_count": 10,
   "metadata": {},
   "outputs": [
    {
     "data": {
      "text/plain": [
       "'No input transaction found'"
      ]
     },
     "execution_count": 10,
     "metadata": {},
     "output_type": "execute_result"
    }
   ],
   "source": [
    "blockchain.new_transaction(sender=dic_nodes['Dylan'], recipient=dic_nodes['Tony'], batchID='2511')"
   ]
  }
 ],
 "metadata": {
  "kernelspec": {
   "display_name": "Python 3",
   "language": "python",
   "name": "python3"
  },
  "language_info": {
   "codemirror_mode": {
    "name": "ipython",
    "version": 3
   },
   "file_extension": ".py",
   "mimetype": "text/x-python",
   "name": "python",
   "nbconvert_exporter": "python",
   "pygments_lexer": "ipython3",
   "version": "3.7.8"
  },
  "toc": {
   "base_numbering": 1,
   "nav_menu": {},
   "number_sections": true,
   "sideBar": true,
   "skip_h1_title": false,
   "title_cell": "Table of Contents",
   "title_sidebar": "Contents",
   "toc_cell": false,
   "toc_position": {},
   "toc_section_display": true,
   "toc_window_display": false
  },
  "varInspector": {
   "cols": {
    "lenName": 16,
    "lenType": 16,
    "lenVar": 40
   },
   "kernels_config": {
    "python": {
     "delete_cmd_postfix": "",
     "delete_cmd_prefix": "del ",
     "library": "var_list.py",
     "varRefreshCmd": "print(var_dic_list())"
    },
    "r": {
     "delete_cmd_postfix": ") ",
     "delete_cmd_prefix": "rm(",
     "library": "var_list.r",
     "varRefreshCmd": "cat(var_dic_list()) "
    }
   },
   "types_to_exclude": [
    "module",
    "function",
    "builtin_function_or_method",
    "instance",
    "_Feature"
   ],
   "window_display": false
  }
 },
 "nbformat": 4,
 "nbformat_minor": 4
}
