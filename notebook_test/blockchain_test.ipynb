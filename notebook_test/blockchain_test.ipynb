{
 "cells": [
  {
   "cell_type": "markdown",
   "metadata": {},
   "source": [
    "# Imports"
   ]
  },
  {
   "cell_type": "code",
   "execution_count": 1,
   "metadata": {},
   "outputs": [],
   "source": [
    "import sys\n",
    "module_path = '../Blockchain'\n",
    "if module_path not in sys.path:\n",
    "    sys.path.append(module_path)\n",
    "from blockchain import *\n",
    "from generate_blockchain import *"
   ]
  },
  {
   "cell_type": "markdown",
   "metadata": {},
   "source": [
    "# Testing the Blockchain class"
   ]
  },
  {
   "cell_type": "markdown",
   "metadata": {},
   "source": [
    "## Creating an instance"
   ]
  },
  {
   "cell_type": "code",
   "execution_count": 2,
   "metadata": {},
   "outputs": [
    {
     "data": {
      "text/plain": [
       "<blockchain.Blockchain at 0x7fc68997bca0>"
      ]
     },
     "execution_count": 2,
     "metadata": {},
     "output_type": "execute_result"
    }
   ],
   "source": [
    "blockchain = Blockchain()\n",
    "blockchain"
   ]
  },
  {
   "cell_type": "markdown",
   "metadata": {},
   "source": [
    "## Utility functions"
   ]
  },
  {
   "cell_type": "code",
   "execution_count": 3,
   "metadata": {},
   "outputs": [],
   "source": [
    "def print_blockchain(blockchain):\n",
    "    str_chain = ''\n",
    "    for block in blockchain.chain:\n",
    "        str_chain += '\\n\\t' + str(block)\n",
    "    \n",
    "    ans = [\n",
    "        f'current_transactions = {blockchain.current_transactions}\\n',\n",
    "        f'nodes = {blockchain.nodes}\\n',\n",
    "        f'UTXO = {blockchain.UTXO}\\n',\n",
    "        \n",
    "        f'chain = {str_chain}\\n',\n",
    "        f'merkleroot = {blockchain.merkleroot}\\n\\n'\n",
    "    ]\n",
    "    \n",
    "    \n",
    "    \n",
    "    print(''.join(ans))\n",
    "    return"
   ]
  },
  {
   "cell_type": "code",
   "execution_count": 4,
   "metadata": {},
   "outputs": [
    {
     "name": "stdout",
     "output_type": "stream",
     "text": [
      "current_transactions = []\n",
      "nodes = set()\n",
      "UTXO = {}\n",
      "chain = \n",
      "\t{'index': 1, 'timestamp': 1606384403.140841, 'transactions': [], 'proof': 100, 'previous_hash': 1, 'merkleroot': 'a117288688ad59388f308b82aa30755bcd67d6461625521d70a42c11912dcc05'}\n",
      "merkleroot = None\n",
      "\n",
      "\n"
     ]
    }
   ],
   "source": [
    "print_blockchain(blockchain)"
   ]
  },
  {
   "cell_type": "code",
   "execution_count": 5,
   "metadata": {},
   "outputs": [],
   "source": [
    "def get_last_proof(blockchain):\n",
    "    return blockchain.chain[-1]['proof']"
   ]
  },
  {
   "cell_type": "code",
   "execution_count": 6,
   "metadata": {
    "scrolled": true
   },
   "outputs": [
    {
     "data": {
      "text/plain": [
       "100"
      ]
     },
     "execution_count": 6,
     "metadata": {},
     "output_type": "execute_result"
    }
   ],
   "source": [
    "get_last_proof(blockchain)"
   ]
  },
  {
   "cell_type": "markdown",
   "metadata": {},
   "source": [
    "## Adding a new block"
   ]
  },
  {
   "cell_type": "code",
   "execution_count": 7,
   "metadata": {},
   "outputs": [
    {
     "data": {
      "text/plain": [
       "35293"
      ]
     },
     "execution_count": 7,
     "metadata": {},
     "output_type": "execute_result"
    }
   ],
   "source": [
    "proof = blockchain.proof_of_work(get_last_proof(blockchain))\n",
    "proof"
   ]
  },
  {
   "cell_type": "code",
   "execution_count": 8,
   "metadata": {},
   "outputs": [
    {
     "data": {
      "text/plain": [
       "{'index': 2,\n",
       " 'timestamp': 1606384403.215295,\n",
       " 'transactions': [],\n",
       " 'proof': 35293,\n",
       " 'previous_hash': '8ab99cc391434dcdf3e0e77d47d228f94ac1db20b83891c24119a01a51267672',\n",
       " 'merkleroot': 'ed0aa27b838d34248c7983daf43afceea4c8adf1739e1e25f4f41c4049e9bcc8'}"
      ]
     },
     "execution_count": 8,
     "metadata": {},
     "output_type": "execute_result"
    }
   ],
   "source": [
    "blockchain.new_block(proof)"
   ]
  },
  {
   "cell_type": "code",
   "execution_count": 9,
   "metadata": {},
   "outputs": [
    {
     "name": "stdout",
     "output_type": "stream",
     "text": [
      "current_transactions = []\n",
      "nodes = set()\n",
      "UTXO = {}\n",
      "chain = \n",
      "\t{'index': 1, 'timestamp': 1606384403.140841, 'transactions': [], 'proof': 100, 'previous_hash': 1, 'merkleroot': 'a117288688ad59388f308b82aa30755bcd67d6461625521d70a42c11912dcc05'}\n",
      "\t{'index': 2, 'timestamp': 1606384403.215295, 'transactions': [], 'proof': 35293, 'previous_hash': '8ab99cc391434dcdf3e0e77d47d228f94ac1db20b83891c24119a01a51267672', 'merkleroot': 'ed0aa27b838d34248c7983daf43afceea4c8adf1739e1e25f4f41c4049e9bcc8'}\n",
      "merkleroot = None\n",
      "\n",
      "\n"
     ]
    }
   ],
   "source": [
    "print_blockchain(blockchain)"
   ]
  },
  {
   "cell_type": "markdown",
   "metadata": {},
   "source": [
    "## Adding new nodes (sender and recipient)"
   ]
  },
  {
   "cell_type": "code",
   "execution_count": 10,
   "metadata": {},
   "outputs": [],
   "source": [
    "dic_nodes = {\n",
    "    'Dylan': 'http://192.168.0.5:5000',\n",
    "    'Tony': 'http://192.168.0.5:5001'\n",
    "}\n",
    "\n",
    "blockchain.register_node('http://192.168.0.5:5000')\n",
    "blockchain.register_node('http://192.168.0.5:5001')"
   ]
  },
  {
   "cell_type": "code",
   "execution_count": 11,
   "metadata": {},
   "outputs": [
    {
     "name": "stdout",
     "output_type": "stream",
     "text": [
      "current_transactions = []\n",
      "nodes = {'192.168.0.5:5001', '192.168.0.5:5000'}\n",
      "UTXO = {}\n",
      "chain = \n",
      "\t{'index': 1, 'timestamp': 1606384403.140841, 'transactions': [], 'proof': 100, 'previous_hash': 1, 'merkleroot': 'a117288688ad59388f308b82aa30755bcd67d6461625521d70a42c11912dcc05'}\n",
      "\t{'index': 2, 'timestamp': 1606384403.215295, 'transactions': [], 'proof': 35293, 'previous_hash': '8ab99cc391434dcdf3e0e77d47d228f94ac1db20b83891c24119a01a51267672', 'merkleroot': 'ed0aa27b838d34248c7983daf43afceea4c8adf1739e1e25f4f41c4049e9bcc8'}\n",
      "merkleroot = None\n",
      "\n",
      "\n"
     ]
    }
   ],
   "source": [
    "print_blockchain(blockchain)"
   ]
  },
  {
   "cell_type": "markdown",
   "metadata": {},
   "source": [
    "# Using generate_blockchain.py"
   ]
  },
  {
   "cell_type": "code",
   "execution_count": 12,
   "metadata": {},
   "outputs": [
    {
     "data": {
      "text/plain": [
       "<generate_blockchain.Actor at 0x7fc689e38bb0>"
      ]
     },
     "execution_count": 12,
     "metadata": {},
     "output_type": "execute_result"
    }
   ],
   "source": [
    "admin = Actor(NODE_ADRESS, ADMIN_PRIVATE_KEY)\n",
    "admin"
   ]
  },
  {
   "cell_type": "code",
   "execution_count": 13,
   "metadata": {},
   "outputs": [],
   "source": [
    "suppliers = [Actor(NODE_ADRESS) for _ in range(10)]"
   ]
  },
  {
   "cell_type": "code",
   "execution_count": 15,
   "metadata": {},
   "outputs": [
    {
     "data": {
      "text/plain": [
       "<Response [201]>"
      ]
     },
     "execution_count": 15,
     "metadata": {},
     "output_type": "execute_result"
    }
   ],
   "source": [
    "admin.send(suppliers[0], 123)"
   ]
  },
  {
   "cell_type": "code",
   "execution_count": 16,
   "metadata": {},
   "outputs": [
    {
     "data": {
      "text/plain": [
       "{'chain': [{'index': 1,\n",
       "   'merkleroot': 'a117288688ad59388f308b82aa30755bcd67d6461625521d70a42c11912dcc05',\n",
       "   'previous_hash': 1,\n",
       "   'proof': 100,\n",
       "   'timestamp': 1606384454.055928,\n",
       "   'transactions': []}],\n",
       " 'length': 1}"
      ]
     },
     "execution_count": 16,
     "metadata": {},
     "output_type": "execute_result"
    }
   ],
   "source": [
    "chain()"
   ]
  },
  {
   "cell_type": "code",
   "execution_count": 17,
   "metadata": {},
   "outputs": [
    {
     "data": {
      "text/plain": [
       "<Response [201]>"
      ]
     },
     "execution_count": 17,
     "metadata": {},
     "output_type": "execute_result"
    }
   ],
   "source": [
    "suppliers[0].send(suppliers[1], 123)"
   ]
  },
  {
   "cell_type": "code",
   "execution_count": 18,
   "metadata": {},
   "outputs": [
    {
     "data": {
      "text/plain": [
       "{'chain': [{'index': 1,\n",
       "   'merkleroot': 'a117288688ad59388f308b82aa30755bcd67d6461625521d70a42c11912dcc05',\n",
       "   'previous_hash': 1,\n",
       "   'proof': 100,\n",
       "   'timestamp': 1606384454.055928,\n",
       "   'transactions': []}],\n",
       " 'length': 1}"
      ]
     },
     "execution_count": 18,
     "metadata": {},
     "output_type": "execute_result"
    }
   ],
   "source": [
    "chain()"
   ]
  },
  {
   "cell_type": "code",
   "execution_count": 19,
   "metadata": {},
   "outputs": [
    {
     "data": {
      "text/plain": [
       "{'index': 2,\n",
       " 'merkleroot': 'ed0aa27b838d34248c7983daf43afceea4c8adf1739e1e25f4f41c4049e9bcc8',\n",
       " 'message': 'New Block Forged',\n",
       " 'previous_hash': '03f705aafed7e3514d12fc213aef5712ba91933fc9583cd21759d56e1802b3e9',\n",
       " 'proof': 35293,\n",
       " 'transactions': [{'batchID': 123,\n",
       "   'recipient': '-----BEGIN PUBLIC KEY-----\\nMFYwEAYHKoZIzj0CAQYFK4EEAAoDQgAEAyOoks0no3JKW5fxxhFlsH2wlffSCb0g\\nI1SNlgdUUCadvL0naC0SmVK9UqDSwPQZOsB1juUdbjrXJjSHQcrszA==\\n-----END PUBLIC KEY-----\\n',\n",
       "   'sender': '-----BEGIN PUBLIC KEY-----\\nMFYwEAYHKoZIzj0CAQYFK4EEAAoDQgAE7MTrJ3EZkwF/cz/Hv9OmmK1kI3oRQ4ow\\nzqZ0wDQaqMkCSaoNdDgN6Hvj38E0VbwZ0cuEnQmuhMjxBJ61EHwiJQ==\\n-----END PUBLIC KEY-----\\n',\n",
       "   'signature': 'MEYCIQDgTN9y/TD0H01NfnHu3HUdLGomGnIYcnDVUZf2ES4zvwIhAOWOI8p1s1B8RQFcvyccmuPuD7UJ+4E88KLQKqLbl/hb',\n",
       "   'transaction_input': ''},\n",
       "  {'batchID': 123,\n",
       "   'recipient': '-----BEGIN PUBLIC KEY-----\\nMFYwEAYHKoZIzj0CAQYFK4EEAAoDQgAEsaAnv5HAXAz0MMJzuVqVuLJtRvyYr4Du\\n6DL1JIGF9c7l+hGAIvn5Pgc2fvH+dhZW6s8xWJYgFOZMMr38NPEOig==\\n-----END PUBLIC KEY-----\\n',\n",
       "   'sender': '-----BEGIN PUBLIC KEY-----\\nMFYwEAYHKoZIzj0CAQYFK4EEAAoDQgAEAyOoks0no3JKW5fxxhFlsH2wlffSCb0g\\nI1SNlgdUUCadvL0naC0SmVK9UqDSwPQZOsB1juUdbjrXJjSHQcrszA==\\n-----END PUBLIC KEY-----\\n',\n",
       "   'signature': 'MEQCIGVVoY9L2ak12co8vCg3IT77SbnU7PGaed6mpbxcbol3AiAIydCVG7LAW/1l+Z7sXgRD6qPWZ0umKw61nWA3VlLJ5g==',\n",
       "   'transaction_input': '6da0f25a7b6b82bd51d330d046e6820fe945d770d9a7a2101662bee3eadc5345'}]}"
      ]
     },
     "execution_count": 19,
     "metadata": {},
     "output_type": "execute_result"
    }
   ],
   "source": [
    "mine()"
   ]
  },
  {
   "cell_type": "code",
   "execution_count": 20,
   "metadata": {},
   "outputs": [
    {
     "data": {
      "text/plain": [
       "<Response [201]>"
      ]
     },
     "execution_count": 20,
     "metadata": {},
     "output_type": "execute_result"
    }
   ],
   "source": [
    "suppliers[1].send(suppliers[5], 123)"
   ]
  },
  {
   "cell_type": "code",
   "execution_count": 21,
   "metadata": {
    "scrolled": true
   },
   "outputs": [
    {
     "data": {
      "text/plain": [
       "{'index': 3,\n",
       " 'merkleroot': 'a4423c16f747a342db766353c7967ecfc7c25daabd0011edb3c079a1e7697119',\n",
       " 'message': 'New Block Forged',\n",
       " 'previous_hash': '7b61ca03d131d42b9f84d7d08bb7178cdbadd252fa9318515145bff3956d1868',\n",
       " 'proof': 35089,\n",
       " 'transactions': [{'batchID': 123,\n",
       "   'recipient': '-----BEGIN PUBLIC KEY-----\\nMFYwEAYHKoZIzj0CAQYFK4EEAAoDQgAEpFfWb1chSeojkZnNACRZDIgJR9Q2IoAH\\np7+VrEo0VKoN4g2OXoPZDGwZu/9SNoWOP8v6Sy1e5L2QC5zECCrkLg==\\n-----END PUBLIC KEY-----\\n',\n",
       "   'sender': '-----BEGIN PUBLIC KEY-----\\nMFYwEAYHKoZIzj0CAQYFK4EEAAoDQgAEsaAnv5HAXAz0MMJzuVqVuLJtRvyYr4Du\\n6DL1JIGF9c7l+hGAIvn5Pgc2fvH+dhZW6s8xWJYgFOZMMr38NPEOig==\\n-----END PUBLIC KEY-----\\n',\n",
       "   'signature': 'MEUCIQD6EodUGpJKgUQ5NKxng+f2rDxX+BZfz8QKTaQkwfpmHQIgSIwgBvlXJjd2ObwRGyS3XJSA1Izdwje2GbF/g9Ns4qU=',\n",
       "   'transaction_input': 'bc3a129d6f9fb24127e225eb5c0a06d801401637b2612a47baebea0aa79e86f4'}]}"
      ]
     },
     "execution_count": 21,
     "metadata": {},
     "output_type": "execute_result"
    }
   ],
   "source": [
    "mine()"
   ]
  },
  {
   "cell_type": "code",
   "execution_count": 22,
   "metadata": {},
   "outputs": [
    {
     "data": {
      "text/plain": [
       "[{'batchID': 123,\n",
       "  'recipient': '-----BEGIN PUBLIC KEY-----\\nMFYwEAYHKoZIzj0CAQYFK4EEAAoDQgAEAyOoks0no3JKW5fxxhFlsH2wlffSCb0g\\nI1SNlgdUUCadvL0naC0SmVK9UqDSwPQZOsB1juUdbjrXJjSHQcrszA==\\n-----END PUBLIC KEY-----\\n',\n",
       "  'sender': '-----BEGIN PUBLIC KEY-----\\nMFYwEAYHKoZIzj0CAQYFK4EEAAoDQgAE7MTrJ3EZkwF/cz/Hv9OmmK1kI3oRQ4ow\\nzqZ0wDQaqMkCSaoNdDgN6Hvj38E0VbwZ0cuEnQmuhMjxBJ61EHwiJQ==\\n-----END PUBLIC KEY-----\\n',\n",
       "  'signature': 'MEYCIQDgTN9y/TD0H01NfnHu3HUdLGomGnIYcnDVUZf2ES4zvwIhAOWOI8p1s1B8RQFcvyccmuPuD7UJ+4E88KLQKqLbl/hb',\n",
       "  'transaction_input': ''},\n",
       " {'batchID': 123,\n",
       "  'recipient': '-----BEGIN PUBLIC KEY-----\\nMFYwEAYHKoZIzj0CAQYFK4EEAAoDQgAEsaAnv5HAXAz0MMJzuVqVuLJtRvyYr4Du\\n6DL1JIGF9c7l+hGAIvn5Pgc2fvH+dhZW6s8xWJYgFOZMMr38NPEOig==\\n-----END PUBLIC KEY-----\\n',\n",
       "  'sender': '-----BEGIN PUBLIC KEY-----\\nMFYwEAYHKoZIzj0CAQYFK4EEAAoDQgAEAyOoks0no3JKW5fxxhFlsH2wlffSCb0g\\nI1SNlgdUUCadvL0naC0SmVK9UqDSwPQZOsB1juUdbjrXJjSHQcrszA==\\n-----END PUBLIC KEY-----\\n',\n",
       "  'signature': 'MEQCIGVVoY9L2ak12co8vCg3IT77SbnU7PGaed6mpbxcbol3AiAIydCVG7LAW/1l+Z7sXgRD6qPWZ0umKw61nWA3VlLJ5g==',\n",
       "  'transaction_input': '6da0f25a7b6b82bd51d330d046e6820fe945d770d9a7a2101662bee3eadc5345'},\n",
       " {'batchID': 123,\n",
       "  'recipient': '-----BEGIN PUBLIC KEY-----\\nMFYwEAYHKoZIzj0CAQYFK4EEAAoDQgAEpFfWb1chSeojkZnNACRZDIgJR9Q2IoAH\\np7+VrEo0VKoN4g2OXoPZDGwZu/9SNoWOP8v6Sy1e5L2QC5zECCrkLg==\\n-----END PUBLIC KEY-----\\n',\n",
       "  'sender': '-----BEGIN PUBLIC KEY-----\\nMFYwEAYHKoZIzj0CAQYFK4EEAAoDQgAEsaAnv5HAXAz0MMJzuVqVuLJtRvyYr4Du\\n6DL1JIGF9c7l+hGAIvn5Pgc2fvH+dhZW6s8xWJYgFOZMMr38NPEOig==\\n-----END PUBLIC KEY-----\\n',\n",
       "  'signature': 'MEUCIQD6EodUGpJKgUQ5NKxng+f2rDxX+BZfz8QKTaQkwfpmHQIgSIwgBvlXJjd2ObwRGyS3XJSA1Izdwje2GbF/g9Ns4qU=',\n",
       "  'transaction_input': 'bc3a129d6f9fb24127e225eb5c0a06d801401637b2612a47baebea0aa79e86f4'}]"
      ]
     },
     "execution_count": 22,
     "metadata": {},
     "output_type": "execute_result"
    }
   ],
   "source": [
    "history_POST(batchID=123)"
   ]
  },
  {
   "cell_type": "code",
   "execution_count": null,
   "metadata": {},
   "outputs": [],
   "source": []
  }
 ],
 "metadata": {
  "kernelspec": {
   "display_name": "Python 3",
   "language": "python",
   "name": "python3"
  },
  "language_info": {
   "codemirror_mode": {
    "name": "ipython",
    "version": 3
   },
   "file_extension": ".py",
   "mimetype": "text/x-python",
   "name": "python",
   "nbconvert_exporter": "python",
   "pygments_lexer": "ipython3",
   "version": "3.8.5"
  },
  "toc": {
   "base_numbering": 1,
   "nav_menu": {},
   "number_sections": true,
   "sideBar": true,
   "skip_h1_title": false,
   "title_cell": "Table of Contents",
   "title_sidebar": "Contents",
   "toc_cell": false,
   "toc_position": {},
   "toc_section_display": true,
   "toc_window_display": false
  },
  "varInspector": {
   "cols": {
    "lenName": 16,
    "lenType": 16,
    "lenVar": 40
   },
   "kernels_config": {
    "python": {
     "delete_cmd_postfix": "",
     "delete_cmd_prefix": "del ",
     "library": "var_list.py",
     "varRefreshCmd": "print(var_dic_list())"
    },
    "r": {
     "delete_cmd_postfix": ") ",
     "delete_cmd_prefix": "rm(",
     "library": "var_list.r",
     "varRefreshCmd": "cat(var_dic_list()) "
    }
   },
   "types_to_exclude": [
    "module",
    "function",
    "builtin_function_or_method",
    "instance",
    "_Feature"
   ],
   "window_display": false
  }
 },
 "nbformat": 4,
 "nbformat_minor": 4
}
