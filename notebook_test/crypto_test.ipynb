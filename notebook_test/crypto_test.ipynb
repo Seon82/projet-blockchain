{
 "cells": [
  {
   "cell_type": "code",
   "execution_count": 1,
   "metadata": {},
   "outputs": [],
   "source": [
    "from collections import OrderedDict\n",
    "from collections import namedtuple\n",
    "\n",
    "import binascii\n",
    "\n",
    "import Crypto\n",
    "import Crypto.Random\n",
    "from Crypto.Hash import SHA\n",
    "from Crypto.PublicKey import RSA\n",
    "from Crypto.Signature import PKCS1_v1_5\n",
    "\n",
    "import hashlib\n",
    "import json\n",
    "from time import time\n",
    "from urllib.parse import urlparse\n",
    "from uuid import uuid4\n",
    "\n",
    "import requests\n",
    "from flask import Flask, jsonify, request, render_template\n",
    "# from flask_cors import CORS"
   ]
  },
  {
   "cell_type": "markdown",
   "metadata": {},
   "source": [
    "# RSA module"
   ]
  },
  {
   "cell_type": "markdown",
   "metadata": {},
   "source": [
    "RSA is an asymmetric cryptographic function."
   ]
  },
  {
   "cell_type": "code",
   "execution_count": 2,
   "metadata": {
    "scrolled": true
   },
   "outputs": [
    {
     "data": {
      "text/plain": [
       "<_RSAobj @0x7f9ee98b4150 n(2048),e,d,p,q,u,private>"
      ]
     },
     "execution_count": 2,
     "metadata": {},
     "output_type": "execute_result"
    }
   ],
   "source": [
    "key = RSA.generate(2048) # generates a key using RSA with n = 2048 bits\n",
    "key"
   ]
  },
  {
   "cell_type": "markdown",
   "metadata": {},
   "source": [
    "The key (RSA instance) should be considered a container for both private and public keys.  \n",
    "To be more precise, `key.exportKey('DER')` gives the private key while we have to call `key.publickey().exportKey('DER')` to get access to the public key."
   ]
  },
  {
   "cell_type": "code",
   "execution_count": 3,
   "metadata": {},
   "outputs": [
    {
     "data": {
      "text/plain": [
       "b'68656c6c6f'"
      ]
     },
     "execution_count": 3,
     "metadata": {},
     "output_type": "execute_result"
    }
   ],
   "source": [
    "bin_hex = binascii.b2a_hex(b'hello')\n",
    "bin_hex"
   ]
  },
  {
   "cell_type": "code",
   "execution_count": 4,
   "metadata": {},
   "outputs": [
    {
     "data": {
      "text/plain": [
       "b'hello'"
      ]
     },
     "execution_count": 4,
     "metadata": {},
     "output_type": "execute_result"
    }
   ],
   "source": [
    "binascii.unhexlify(bin_hex)"
   ]
  },
  {
   "cell_type": "code",
   "execution_count": 5,
   "metadata": {
    "scrolled": true
   },
   "outputs": [
    {
     "data": {
      "text/plain": [
       "b'0\\x82\\x04\\xa5\\x02\\x01\\x00\\x02\\x82\\x01\\x01\\x00\\xb38\\xc8\\x16\\x93w[\\x1f\\xbc\\xe7\\x1d\\x83\\x1eZ\\x81E\\x7f\\xb9S\\xd1\\x87\\xbb\\x82\\xedY\\xa9\\xc7ts\\xeb7\\x90\\x81\\x12\\x9bL\\xbc\\xe1\\x1f\\x8a\\x9b:\\xe2\\xd7\\xfe[0)\\xe1\\x8a\\xb2\\xc9\\xaf\\xcb\\xa5\\xcarW\\xfd\\xfc\\'t-\\xe3\\x002\\x8e<>g\\xe2\\x14\\xa0\\xdd\\xff\\xeb\\xe4\\xa9\\x8d\\x14*\\x97\\x8bm\\xed\\xea\\xc4s\\xea\\xc2P\\x1bF\\xfa\\xd8\\x06EkL\\xed\\xb9s\\x7f\\x82\\xf8?\\x19\\xe8\\x1c\\xc9\\xf1\\xeeO\\xab\\xd4\\xc4\\x7fG`\\xaf\\rCfo\\tD``\\x17\\r\\xc4\\xcf\\xed\\xfeU\\xfe\\xfd\\x81r\\xef\\xf6/\\xe6\\x13\\x15\\x11\\xdfn\\xc8\\x92\\xaa\\xe3\\xc7\\xcc*\\x98\\xab\\x05\\xaa\\xb5PR\\x9f\\xca\\xb6\\x03\\x13\\x9a\\x87\\xb4!\\xff\\x98\\x11[E7x\\xe7\\x9f\\xa5\\x99\\xcfJ\\xec\\xb0\\xb2{$-wg$a\\x0f\\xfa\\xdc{m*\\xd6A\\xe5\\x9b\\xf6=\\xd7\\xe9\\x1c\\x9a\\xa1\\xda\\xd8&\\xd0\\xb0\\xe3\\x17\\xadr\\xb9U\\x8bM\\x95\\x85\\xd7\\x0f\\x01\\x1e\\xf3\\xc7\\x1c\\x0e\\xe6\\x18\\x07wB\\x9b\\xdf\\xf0\\xba\"\\xb1B\\xdfe\\xd6\\xc8\\x16Re(\\xd3\\x93\\x02\\x03\\x01\\x00\\x01\\x02\\x82\\x01\\x00i\\xa1\\xc6\\xf4\\xdfw\\xd2\\xc2\\x93\\x11Y(\\xa5\\xe4L\\x1b\\r[\\xcb\\x16M<\\xec\\xbf>@\\xbe)Z\\x05B\\x1b\\xae\\xa7\\xab\\xd6\\xff\\xe0d9\\xca\\xa2[\\x7fY\\x10\\xa0\\x03\\x9fF\\xa3x\\x12`\"X\\x7f*s\\xad\\x82\\x07\\x8c\\xe0%\\x86\\xa6\\xa4\\xc5Wo>\\x1fN\\x99\\x7f\\x8c\\xa7\\x8eZ[|4\\x96\\xd7J\\xae\\xfdoY\\x95\\xe3m\\xe3}\\x1d\\xbd\\x1e\\xb0\\x19\\xd1[L\\xc5\\x81\\xd1\\x97Pb_xs\\xb0\\x8b\\xa3})S\\x85\\x9d\\xc7`yhjz\\xdd\\x9d\\xe8\\x96\\xebFY\\x1d\\x8f\\x03\\x7f-\\xf1\\xb4s(\\x94\\x96_a\\xb7\\xb3\\x04\\x84T\\x0cd\\xb5\\x89\\xd6?\\xde\\x91\\x94#\\xe4\\xa9vlX\\xd2\\x1b\\x80vD\\xfdM\\x00\\x8f\\xbdpv\\xd4\\xb1\\'!C\\xf7\\x8c]\\xd1\\xce\\xb6\\xe9\\xbc\\x82\\x0c\\xa4-t\\xe4?\\x97\\xae\\xbcD\\xf8,\\x15#\\x85-\\xd1\\xa2\\xb2\\xb7\\x11\\xa0\\x19\\r\\xeb<\\xae\\'\\xfb\\xae\\xf6F\\x03\"\\xbf\\x8a\\xca\\x02\\x17\\x8aB;|\\x1a\\xbd\\x1e\\xd5\\xb0\\xd8\\xeaT\\xf4t\\x18:)\\xc4\\xd0\\x8d~}k\\xbe\\xc1\\x02\\x81\\x81\\x00\\xd4Z\\x91o\\x1e{\\x84\\xf5\\xc2=5\\xc5\\x07L\\xf2(\\xdd\\xe6\\xce\\xc3\\xaa&\\xc1e\\x18N|\\xf6z\\xe919\\x13|=\\x8f\\x1c\\xeb\\xf3\\xd4\\x8c\\xe2P\\xbb\\x83\\xaf:\\x93<\\x9b\\xc1\\xab\\x07\\xa7~ho\\x15C\\x84\\'0Z\\x90P@\\x83\\xc08\\x04\\xbe\\xc5&\\x93\\xe9\\x94\\xe2\\x17\\x9f\\xaa\\xaa\\xac\\x1f\\xc6\\xd3k\\xa2uF~w0\\x1f\\xa7\\x16\\xdb\\n[\\\\\\xa3\\xaf\\x88\\xaeS\\x0c\\x17VA\\xa7\\x97\\xfa\\x96\\xa7\\xa8\\xf5\\x0b\\x93\\xf7\\x19\\x10\\x0f\\x17S\\x18\\xd9\\xe5\\xde!\\x02\\x81\\x81\\x00\\xd8\\x0e\\xe7\\xf9\\xb7\\xa8\\xc7\\'s\\x9a\\x9a=\\xd5\\xed]\\xc3I,\\xac\\xd0V^U\\xd2\\xb0\\xc6\\xf1\\x07\\xa6m%\\xe3Z\\x03P\\xd4\\x15\\xa3\\x9cP\\xa2\\xe4\\xeb\\xe7\\x97\\xd3\\xc3\\xab\\xfb\\x0f\\x96\\xcb\\x96^Y\\x99\\xe2a\\xdf`p\\xa7\\xc1\"\\xd36\\x06\\xdd\\x18\\xee\\x8fI\\x1d\\x8f\\x07\\xfb\\xb9HM\\x82`\\xc6\\xbb\\xf6\\xd7\\x8e\\x9e\\x96\\xab\\xe5\\xba\\xf6\\xefr\\xbam`\\xca\\x96R\\xf2\\x1ej\\x89\\xd92\\xfd\\x02\\xb2\\x99m\\xc92\\x81\\xb1\\xeb\\x1b\\x8a\\xb5)\\xcc\\xd83c[}33\\x02\\x81\\x81\\x00\\x90\\x9d\\xfd]\\x87\\x8c\\xe7G\\xd78\\x88]\\xdeR\\xf0\\xb8\\x14\\'\\x13\\xb8\\xfd/\\xd7\\x95Y\\xb0Z:\"\\n\\x9d\\x93\\x19J\\x0bBc\\x97\\xed>[\\x93\\xe5\\x17N\\xdf\\x0f-&\\xa1\\x8c\\x8bEs4\\x0b;[g\\xd7\\xa08\\xb5\\xf4\\x822\\xed\\x87\\x02\\x9fx\\xac\\x1bQ\\xb0I\\xcc\\x8f\\xfa\\x14\\xe8\\x96\\xc0-O\\xde\\x85\\x8d\\x08\\xad\\'\\xce\\x86?\\xec\\xb8\\xcf\\x9c\\xd8\\xc2@\\xd0\\xfc\\xa7b\\x1c\\xa2\\x89\\xa3\\xf1D\\x9fE\\x1f3\\x82\\xe7\\t\\xe8\\xef\\x9e\\xd7k\\xa8\\x08\\xfd\\x1b\\x01\\x02\\x81\\x81\\x00\\xaa\\x0f\\xe9\\x96\\x0cs\\x03\\xf7P\\xaeSS\\xf2\\xcc8n[m\\x97\\xc5\\x11\\x06\\x85\\xe5&\\x12!lU\\x1a:\\xa5^\\x97\\x97\\x8a\\xa8Q\\xb4\\xdb_\\xacr\\xe7C\\x01\\x83V\\x1er\\xa1\\xce3\\xd8\\xa6\\x0cS=\\x98v\\xaf\\x95\\xcb\\x96\\xde\\xca\\xfa\\xd2\\x13*\\xcb\\x8b\\xd0\\x81a\\xd6H{\\xd9\\xce\\x92\\xe0:\\xd9K\\xc8M\\x99\\xe9J\\x15E\\x03*\\xba\\x05\\x18\\x17\\xbe\\x05!\\xe0\\xc1\\x19)\\xe6QrK$+_\\x1f\\xab(a\\x17\\xb7\\xb1kjz\\x8e\\xd0Y\\x16\\x0e3\\x02\\x81\\x81\\x00\\xc01\\xa8\\xadj\\x9aZ\\xf7\\xdfr\\x94\\xb9\\xaeq\\x8a\\xac\\x0c3\\x9a\"\\xf50Y\\xd1UY\\x04\\x99h\\xdc\\x1a\\x9b\\xf8\\xb4d\\xd4\\xec`\\xa4*SWN\\xc6\\xf8\\x8c\\xd7\\x19k]{a\\x9f\\xf7R}\\xd5\\x97\\x10\\xf5=\\xe2\\x97\\xa3z\\x872\\x0b\\x11z\\x1d\\xbbM\\xb7V$\\xdcu7\\x81\\xc5u\\x17P9\"\\xd4i\\x00\\x99\\x1ep\\xc2\\xb8llN\\xf0gw~\\xf1\\x8b\\x14L\\xb5\\xd5\\x00\\xd2\\xef\\xd0\\xff\\xbdM|\\xc2\\xcd\\x8c\\xf95\\x9c\\x97\\xe4u\\xe13\\xc3\\xe6'"
      ]
     },
     "execution_count": 5,
     "metadata": {},
     "output_type": "execute_result"
    }
   ],
   "source": [
    "# Getting private key:\n",
    "pbk = key.exportKey('DER')\n",
    "pbk"
   ]
  },
  {
   "cell_type": "code",
   "execution_count": 6,
   "metadata": {},
   "outputs": [
    {
     "data": {
      "text/plain": [
       "<_RSAobj @0x7f9ec812d910 n(2048),e>"
      ]
     },
     "execution_count": 6,
     "metadata": {},
     "output_type": "execute_result"
    }
   ],
   "source": [
    "key.publickey()"
   ]
  },
  {
   "cell_type": "code",
   "execution_count": 7,
   "metadata": {},
   "outputs": [
    {
     "data": {
      "text/plain": [
       "b'0\\x82\\x01\"0\\r\\x06\\t*\\x86H\\x86\\xf7\\r\\x01\\x01\\x01\\x05\\x00\\x03\\x82\\x01\\x0f\\x000\\x82\\x01\\n\\x02\\x82\\x01\\x01\\x00\\xb38\\xc8\\x16\\x93w[\\x1f\\xbc\\xe7\\x1d\\x83\\x1eZ\\x81E\\x7f\\xb9S\\xd1\\x87\\xbb\\x82\\xedY\\xa9\\xc7ts\\xeb7\\x90\\x81\\x12\\x9bL\\xbc\\xe1\\x1f\\x8a\\x9b:\\xe2\\xd7\\xfe[0)\\xe1\\x8a\\xb2\\xc9\\xaf\\xcb\\xa5\\xcarW\\xfd\\xfc\\'t-\\xe3\\x002\\x8e<>g\\xe2\\x14\\xa0\\xdd\\xff\\xeb\\xe4\\xa9\\x8d\\x14*\\x97\\x8bm\\xed\\xea\\xc4s\\xea\\xc2P\\x1bF\\xfa\\xd8\\x06EkL\\xed\\xb9s\\x7f\\x82\\xf8?\\x19\\xe8\\x1c\\xc9\\xf1\\xeeO\\xab\\xd4\\xc4\\x7fG`\\xaf\\rCfo\\tD``\\x17\\r\\xc4\\xcf\\xed\\xfeU\\xfe\\xfd\\x81r\\xef\\xf6/\\xe6\\x13\\x15\\x11\\xdfn\\xc8\\x92\\xaa\\xe3\\xc7\\xcc*\\x98\\xab\\x05\\xaa\\xb5PR\\x9f\\xca\\xb6\\x03\\x13\\x9a\\x87\\xb4!\\xff\\x98\\x11[E7x\\xe7\\x9f\\xa5\\x99\\xcfJ\\xec\\xb0\\xb2{$-wg$a\\x0f\\xfa\\xdc{m*\\xd6A\\xe5\\x9b\\xf6=\\xd7\\xe9\\x1c\\x9a\\xa1\\xda\\xd8&\\xd0\\xb0\\xe3\\x17\\xadr\\xb9U\\x8bM\\x95\\x85\\xd7\\x0f\\x01\\x1e\\xf3\\xc7\\x1c\\x0e\\xe6\\x18\\x07wB\\x9b\\xdf\\xf0\\xba\"\\xb1B\\xdfe\\xd6\\xc8\\x16Re(\\xd3\\x93\\x02\\x03\\x01\\x00\\x01'"
      ]
     },
     "execution_count": 7,
     "metadata": {},
     "output_type": "execute_result"
    }
   ],
   "source": [
    "# Getting public key:\n",
    "pvk = key.publickey().exportKey('DER')\n",
    "pvk"
   ]
  },
  {
   "cell_type": "markdown",
   "metadata": {},
   "source": [
    "# SHA module"
   ]
  },
  {
   "cell_type": "markdown",
   "metadata": {},
   "source": [
    "SHA is a hashing function."
   ]
  },
  {
   "cell_type": "code",
   "execution_count": 8,
   "metadata": {},
   "outputs": [
    {
     "data": {
      "text/plain": [
       "<Crypto.Hash.SHA.SHA1Hash at 0x7f9ec81300d0>"
      ]
     },
     "execution_count": 8,
     "metadata": {},
     "output_type": "execute_result"
    }
   ],
   "source": [
    "h = SHA.new()\n",
    "h"
   ]
  },
  {
   "cell_type": "code",
   "execution_count": 9,
   "metadata": {},
   "outputs": [
    {
     "data": {
      "text/plain": [
       "'da39a3ee5e6b4b0d3255bfef95601890afd80709'"
      ]
     },
     "execution_count": 9,
     "metadata": {},
     "output_type": "execute_result"
    }
   ],
   "source": [
    "h.hexdigest()"
   ]
  },
  {
   "cell_type": "code",
   "execution_count": 10,
   "metadata": {},
   "outputs": [
    {
     "data": {
      "text/plain": [
       "bytes"
      ]
     },
     "execution_count": 10,
     "metadata": {},
     "output_type": "execute_result"
    }
   ],
   "source": [
    "type(b'Hello')"
   ]
  },
  {
   "cell_type": "markdown",
   "metadata": {},
   "source": [
    "How to use `h.update`:\n",
    "> Continue hashing of a message by consuming the next chunk of data.\n",
    "> Repeated calls are equivalent to a single call with the concatenation\n",
    "of all the arguments"
   ]
  },
  {
   "cell_type": "code",
   "execution_count": 11,
   "metadata": {},
   "outputs": [
    {
     "data": {
      "text/plain": [
       "'f7ff9e8b7bb2e09b70935a5d785e0cc5d9d0abf0'"
      ]
     },
     "execution_count": 11,
     "metadata": {},
     "output_type": "execute_result"
    }
   ],
   "source": [
    "h.update(b'Hello')\n",
    "h.hexdigest()"
   ]
  },
  {
   "cell_type": "markdown",
   "metadata": {},
   "source": [
    "So the above code is strictly equivalent to:"
   ]
  },
  {
   "cell_type": "code",
   "execution_count": 12,
   "metadata": {},
   "outputs": [
    {
     "data": {
      "text/plain": [
       "'f7ff9e8b7bb2e09b70935a5d785e0cc5d9d0abf0'"
      ]
     },
     "execution_count": 12,
     "metadata": {},
     "output_type": "execute_result"
    }
   ],
   "source": [
    "SHA.new(b'Hello').hexdigest()"
   ]
  },
  {
   "cell_type": "markdown",
   "metadata": {},
   "source": [
    "# PKCS1 signature protocol"
   ]
  },
  {
   "cell_type": "markdown",
   "metadata": {},
   "source": [
    "Please make sure that all messages are encoded beforehand."
   ]
  },
  {
   "cell_type": "code",
   "execution_count": 21,
   "metadata": {},
   "outputs": [],
   "source": [
    "message = 'To be signed.'.encode()"
   ]
  },
  {
   "cell_type": "code",
   "execution_count": 22,
   "metadata": {},
   "outputs": [
    {
     "data": {
      "text/plain": [
       "<_RSAobj @0x7f9ec8125910 n(2048),e,d,p,q,u,private>"
      ]
     },
     "execution_count": 22,
     "metadata": {},
     "output_type": "execute_result"
    }
   ],
   "source": [
    "key_bin = RSA.generate(2048)\n",
    "key_bin"
   ]
  },
  {
   "cell_type": "markdown",
   "metadata": {},
   "source": [
    "## Sender side"
   ]
  },
  {
   "cell_type": "code",
   "execution_count": 24,
   "metadata": {},
   "outputs": [
    {
     "data": {
      "text/plain": [
       "b\"5\\x97`\\xc5Y\\\\\\x99\\xf1m\\xae\\xb8\\x08\\xcb\\x9c\\xed$m\\x94#\\xb2CrQZ\\xa0\\x0c\\x89O\\xc1P\\x15R\\xed\\x1b\\x1e\\x9fjh\\x01f\\xe6\\xdf\\xc0a\\x01>\\xa0\\n\\xdf\\xe9\\x11IZ\\x0e~\\xd5\\xdf\\xad4p \\x02\\xe0\\x16[\\xee\\xee\\xc6\\xf1$\\xc1%!\\x9e\\xd6\\xc1\\x0e\\xf7\\xe0\\x8dh\\xae\\xa9\\x0eq\\xa7\\x04\\xa9\\xf4'\\x00Z\\x19\\xe8Z\\x95\\x1a\\xdf,o\\xc6\\n\\x1d\\xbd\\x9e\\xccu\\x95\\xba\\xfb\\xe5\\xd0'\\xaf\\t\\x82\\x96Z\\xdf4g\\xef\\xdcV\\x1e\\xda\\xcc\\x17\\xe8#\\xbc\\rO\\xba#kk\\xb3\\x92m\\x1f7O\\xb8)\\xc7^\\xb4\\x03t\\xa6\\x12\\xaa\\xe7\\xbf\\xed\\x90#\\xdf\\xe1\\xef\\x02\\xf4\\x10\\xa2t\\xe2\\xae:\\xf1\\x89K\\xe3\\x02L)*\\n\\xf2\\x8bn\\x8e\\xafd|\\xd7i\\xf0,\\xb3\\x01x}\\x02\\xe3>g\\x15\\xa9W\\x87\\xe3m|\\xdc;\\xef\\xdf\\xf5h 9\\x14\\x14z\\xb7\\x83\\x1dSL\\x8e9]{\\xd5\\xf5`\\x91\\x89\\xa2\\x0f\\xec\\x8d\\xf2M\\x0e\\x12\\xb1\\xa6]+\\x8ap\\xd7R\\x15\\x1d\\x94\\xf3\\xfdS\\xa9\\x02X\\xb0\\xb1\""
      ]
     },
     "execution_count": 24,
     "metadata": {},
     "output_type": "execute_result"
    }
   ],
   "source": [
    "private_key = RSA.importKey(key_bin.exportKey('DER'))\n",
    "h_sender = SHA.new(message)\n",
    "\n",
    "signer = PKCS1_v1_5.new(private_key)\n",
    "\n",
    "signature = signer.sign(h)\n",
    "signature"
   ]
  },
  {
   "cell_type": "markdown",
   "metadata": {},
   "source": [
    "## Receiver side"
   ]
  },
  {
   "cell_type": "code",
   "execution_count": 25,
   "metadata": {},
   "outputs": [
    {
     "data": {
      "text/plain": [
       "<Crypto.Signature.PKCS1_v1_5.PKCS115_SigScheme at 0x7f9ee98fddd0>"
      ]
     },
     "execution_count": 25,
     "metadata": {},
     "output_type": "execute_result"
    }
   ],
   "source": [
    "public_key = RSA.importKey(key_bin.publickey().exportKey('DER'))\n",
    "h_receiver = SHA.new(message)\n",
    "\n",
    "verifier = PKCS1_v1_5.new(public_key)\n",
    "verifier"
   ]
  },
  {
   "cell_type": "code",
   "execution_count": 26,
   "metadata": {},
   "outputs": [
    {
     "name": "stdout",
     "output_type": "stream",
     "text": [
      "The signature is authentic.\n"
     ]
    }
   ],
   "source": [
    "if verifier.verify(h, signature):\n",
    "    print(\"The signature is authentic.\")\n",
    "else:\n",
    "    print(\"The signature is not authentic.\")"
   ]
  },
  {
   "cell_type": "code",
   "execution_count": null,
   "metadata": {},
   "outputs": [],
   "source": []
  }
 ],
 "metadata": {
  "kernelspec": {
   "display_name": "Python 3",
   "language": "python",
   "name": "python3"
  },
  "language_info": {
   "codemirror_mode": {
    "name": "ipython",
    "version": 3
   },
   "file_extension": ".py",
   "mimetype": "text/x-python",
   "name": "python",
   "nbconvert_exporter": "python",
   "pygments_lexer": "ipython3",
   "version": "3.7.8"
  },
  "toc": {
   "base_numbering": 1,
   "nav_menu": {},
   "number_sections": true,
   "sideBar": true,
   "skip_h1_title": false,
   "title_cell": "Table of Contents",
   "title_sidebar": "Contents",
   "toc_cell": false,
   "toc_position": {},
   "toc_section_display": true,
   "toc_window_display": false
  },
  "varInspector": {
   "cols": {
    "lenName": 16,
    "lenType": 16,
    "lenVar": 40
   },
   "kernels_config": {
    "python": {
     "delete_cmd_postfix": "",
     "delete_cmd_prefix": "del ",
     "library": "var_list.py",
     "varRefreshCmd": "print(var_dic_list())"
    },
    "r": {
     "delete_cmd_postfix": ") ",
     "delete_cmd_prefix": "rm(",
     "library": "var_list.r",
     "varRefreshCmd": "cat(var_dic_list()) "
    }
   },
   "types_to_exclude": [
    "module",
    "function",
    "builtin_function_or_method",
    "instance",
    "_Feature"
   ],
   "window_display": false
  }
 },
 "nbformat": 4,
 "nbformat_minor": 4
}
