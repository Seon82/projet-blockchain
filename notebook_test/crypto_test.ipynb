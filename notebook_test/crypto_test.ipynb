{
 "cells": [
  {
   "cell_type": "code",
   "execution_count": 1,
   "metadata": {},
   "outputs": [],
   "source": [
    "from collections import OrderedDict\n",
    "from collections import namedtuple\n",
    "\n",
    "import binascii\n",
    "\n",
    "import Crypto\n",
    "import Crypto.Random\n",
    "from Crypto.Hash import SHA\n",
    "from Crypto.PublicKey import RSA\n",
    "from Crypto.Signature import PKCS1_v1_5\n",
    "\n",
    "import hashlib\n",
    "import json\n",
    "from time import time\n",
    "from urllib.parse import urlparse\n",
    "from uuid import uuid4\n",
    "\n",
    "import requests\n",
    "from flask import Flask, jsonify, request, render_template\n",
    "# from flask_cors import CORS"
   ]
  },
  {
   "cell_type": "markdown",
   "metadata": {},
   "source": [
    "# RSA module"
   ]
  },
  {
   "cell_type": "markdown",
   "metadata": {},
   "source": [
    "RSA is an asymmetric cryptographic function."
   ]
  },
  {
   "cell_type": "code",
   "execution_count": 2,
   "metadata": {
    "scrolled": true
   },
   "outputs": [
    {
     "data": {
      "text/plain": [
       "<_RSAobj @0x7fb2905a7fd0 n(2048),e,d,p,q,u,private>"
      ]
     },
     "execution_count": 2,
     "metadata": {},
     "output_type": "execute_result"
    }
   ],
   "source": [
    "key = RSA.generate(2048) # generates a key using RSA with n = 2048 bits\n",
    "key"
   ]
  },
  {
   "cell_type": "markdown",
   "metadata": {},
   "source": [
    "The key (RSA instance) should be considered a container for both private and public keys.  \n",
    "To be more precise, `key.exportKey('DER')` gives the private key while we have to call `key.publickey().exportKey('DER')` to get access to the public key."
   ]
  },
  {
   "cell_type": "code",
   "execution_count": 3,
   "metadata": {},
   "outputs": [
    {
     "data": {
      "text/plain": [
       "b'68656c6c6f'"
      ]
     },
     "execution_count": 3,
     "metadata": {},
     "output_type": "execute_result"
    }
   ],
   "source": [
    "bin_hex = binascii.b2a_hex(b'hello')\n",
    "bin_hex"
   ]
  },
  {
   "cell_type": "code",
   "execution_count": 4,
   "metadata": {},
   "outputs": [
    {
     "data": {
      "text/plain": [
       "b'hello'"
      ]
     },
     "execution_count": 4,
     "metadata": {},
     "output_type": "execute_result"
    }
   ],
   "source": [
    "binascii.unhexlify(bin_hex)"
   ]
  },
  {
   "cell_type": "code",
   "execution_count": 5,
   "metadata": {
    "scrolled": true
   },
   "outputs": [
    {
     "data": {
      "text/plain": [
       "b'0\\x82\\x04\\xa3\\x02\\x01\\x00\\x02\\x82\\x01\\x01\\x00\\x9f\\\\$\\x9b}$!ju_\\r\\x0fQ\\xea\\xda\\xc5\\xd05(\\xc7*%\\x13\\x96\\xcd=56\\xd9$\\xb1\\xc4)\\xc6\\x85b\"\\x17m\\xadw\\xb7\\x95ON\\xb5\\xbd\\x90\\xff\\xd9\\xf0-\\xfb\\xcb\\x810\\x9d\\x00[vg\\x00\\x01\\xf0\\xcb4q\\xf6;{}\\xa6j\\x01j\\x93\\xb2\\xc8\\xa2j\\xcb \\xb18\\xc7\\x1e24:k\\xd2eK\\xc0zR7\\xcbj.\\\\}_\\x16^\\xc2\\x92\\x8d\\xf0Ue\\x8aW_\\xee\\x82\\x0e\\xb1a\\xb8&\\xd1QH\\xb55\\xf6]c\\x9d_J\\xe0)\\xdd\\xfe| \\xa6bvr\\xf5\\x06\\xf2i\\x99\\xab3\\xf0.\\xf9\\xfbA\\x90\\xc0\\x08\\x8f\\x07ln\\xc5wm \\x05\\x90\\xd53D\\xd0d\\rP@0\\'\\x1d\\x80\\x13\\xe0\\xee\\x08\\xf7\\x0e\\xa7\\xc7\\x13\\x88\\xcd\\xa6]\\x05F\\xa50m\\xcd-\\xbf\\xcf\\xfd\\xc8\\x12\\xf0\\x1e\\x94k\\xaa2x\\xfaX\\xbe\\x9c\\x0b81\\xc1M\\x18\\x94q\\xe7\\xa8\\xac\\x15\\x84\\xf2uwq]\\x82u\\x1f\\x03\\xb7\\xda\\x86\\xef\\x14\\x16\\x1fO\\xdao>Z\\xbc\\xf0:\\x11\\xa1\\xebu\\x02\\x03\\x01\\x00\\x01\\x02\\x82\\x01\\x00F\\xe0\\xf7\\xd3D\\xa4\\xb6L j\\'g\\xe1\\xfa\\x80U\\xadV\\x87\\x8d\\x95\\xfc)\\xabP\\x1b\\xe28C\\xfac*\\xa9\\x9e\\x07\\xa3o V\\x82\\xea\\x15xNn\\xe6\\xbc\\xaa\\xeaq\\'\\xb7|\\x1f\\xb6\\x95E\\xafk\\xfe\\xcc\\xaf\\x1f-\\xd7c\\xbb0V\\xa2\\x85oh\\x04\\xbb?x,n\\xb8\\xeb!\\xdeQ/\\x97\\t\\xa3[<\\xab\\xb6\\xac+\\xae\\xfc4\\x9e\\xbf\\xda`\\xfe\\xce5\\'\\xee\\x88\\xba\\xa2\\xe3\\x88\\xa70W\\x95\\xc0\\xb9\\x02BAb\\xda\\x84\\xb9\\xbf\\x07\\x82L\\xb1q>\\xac[\\xf4\\xcf\\xd9\\'\\xd4\\x82\\xfe\\xc8\\xdd\\n\\x89\\xf8LJ\\x86\\xfbV\\xd9=c\\x14Y=O\\xb5\\xa8\\xc7\\xd5\\x80\\x17\\xc6\\xbf>\\xce\\x9b\\x00\\xfb\\xfe\\xdb{\\x01I\\xc1\\xf7[R\\xa8\\xa1\\xcb\\x9aR\\x18\\x91\\x19\\x9c0\\xf4\\x01\\x9bsZ\\'h\\xbc\\x88\\x01\\xb2\\xe2\\xa4[\\x01?\\x0c\\xd2/\\x18C\\xba\\xf3\\x89\\xc8\\xa5\\xa7\\xfc\\x01\\xa0\\xb3{l\\x9c\\xe6|\\xbd\\x8d\\x0b\\xe9\\xf9$\\xac\\xd8XKt\\t\\x8e\\xd6\\xc4J\\xf3\\x03R\\xb8M\\x12tJ\\'\\xe3\\xc7l\\xdd\\x80\\xa1\\x02\\x81\\x81\\x00\\xc19M\\xbepP\\xae\\xe1\\xbb\\xfd\\xe8\\x0c\\xd2\\xa3h\\xa0:\\xc5\\xdeX\\xa2\\xf4\\x1b\\xe4OB\\x18\\x84Q\\xe0h&z\\x1f\\xa6Pe\\xc9\\x1b\\x88\\xd0\\xc0\\xc8\\xf9||\\xf1\\xdf\\xf6+\\xe3\\x9e\\xab)\\xc7Wnd \\xbe\\x1e\\xf1#P\\xb5\\xa2\\xc3\\xf9i\\xa2jE:\\xf6IL\\x93L\\xf6t\\xfb\\xe7\\xbf\\x89\\x16\\x9e\\xcc[G\\x89\\x1d\\xdd\\x1dTy1\\xbfC\\xd1@\\xf8\\xae>\\x19\\xb1\\xb2/\\xf2i\\xa5\\xe5\\x1a\\x9a\\x0c6\\x91]\\xd4\\xacL*&%\\xf3\\x8d\\xa5c]\\x02\\x81\\x81\\x00\\xd3\"T\\xafit\\x07\\x831&\\xbf\\xf4\\xe9<\\xd5x\\xa2\\x8f3*e\\x83Q\\xc3U^\\xba\\xf0eIX\\xe7b5\\xa7Q`\\xce\\xeauER\\xa5\\x85\\xd3\\xe3\\xec\\xa6hY\\x8d-@V\\xb1\\xb0\\xbeye\\x98vq\\xe5\\x8cUZ+\\xae\\xaf\\xc7S\\x97Y\\xba\\\\\\xa8\\x92m\\'\\x03\\xc1\\x04\\x83\\xf6\\xb1L\\xc1\\x8c\\xfd$\\\\\\x0b8\\x1aL\\xfa9\\x92\\xc2\\x11\\xfa\\x1aHg\\x8c\\xb6\\xb0L\\xbe\\xdch\\xbe\\x99\\x97\\xbe\\xc3Z\\xd7\\xd0V\\x0c\\xc1G\\xbfk\\x06\\xfe\\xf9\\x02\\x81\\x80Fv\\xfb_#\\xde\\x88\\xa8Q\\xc2z\\xc9\\x92W}dQ\\x8a\\xafWk\\xb5\\xd2&$\\xb1Y\\xf7\\x87Tk&\\xfd\\ne\\xc0\\x94\\x1e\\x0f(\\x89\\xd8\\x84rWo\\xc9U\\x7f\\x94\\xe9\\xe1\\x87R)\\x1c=i\\xcew\\x07\\x19\\xb1cQ\\x9a\\x16\\x15\\xf2\\xec\\x04\\rS?U\\xe3\\xd3$\\x12\\x0c\\xff\\x80\\xb8\\\\\\xea\\x1e\\xe7/\\xb2\\x9a\\xd2\\x85<\\x98\\xfd\\xc9\\xa2\\x92\\xbc\\xd1\\x10\\xdf\\x9aN\\x0c{\\x8a\\xf8\\xc0\\x86{R\\x843H\\x03#P\\xd7\\xb4\\xbe\\xfaB\\x84\\xdbw!\\x11\\x02\\x81\\x81\\x00\\x89\\x9a\\xb1h\\xd5\\xa8\\xca\\x90\\xa5\\x83$\\xcea\\x08\\xc5\\xf4f\\xb6?\\xd9\\x9c\\xe9\\x96ka\\x83i\\x00\\xeer|_\\xe9q \\x88x8\\xc34\\x05\\'U;\\xc0\\x9a\\xa7\\x0c\\xd9\\xab\\xab\\xc8WKii\\xd0\\xea[\\xdd\\x9f,\\xa27\\xf1\\x14\\xe0\\xadl`\\xd3\\xc9+\\xb0\\xbb]\\x1ey\\xc7X\\xb9\\xfe\\xd0g\\x02\\xad\\x0c\\xe4o\\xc3\\xb7\\xbd\\x94&\\x08\\x0fy`}\\xdd\\xab\\x8c_\\xae%V\\x97\\xd6\\x9c\\xfa\\x17\\xc6IbM\\xf1\\x12\\x8e\\xdfx\\x85\\xbd\\x9e\\x9eR\\t\\xf09\\x02\\x81\\x80\\x1a\\x92>\\xf4\\xdd\\xd6K\\x00\\xb9\\x8d\\x00F\\x1di\\xba\\x9ac\\xb7\\\\\\xa6\\xfa!vp=\\rPO\\x1b\\x18W\\xf0\\x8b\\xccE\\x83h\\xc0h\\xd9\\x92\\x06syb\\x00(\\x01\\xe9\\x90^\\xfb\\\\\\xf9\\xdfW+\\xec\\xda\\x8b\\xa1\\x06\\xa7\\x9a\\x110\\x06\\xb2\\xa0xT\\x1e\\xbfb\\xa8\\x8a75@\\x10\\x84\\xa5\\x08\\xc2\\x0e\\x1dv1R\\x12\\xd0\\xf7\\xd21\\xeb\\x80\\xb8b\\xc3)\\xa9W\\x1f0[\\xb1\\x03ghf\\x84<\\xfc\\x93\\xb0\\x1c\\x07\\xb6\\xab[\\xd3\\x13\\xd9\\xb2\\x9f\\xbb\\x16\\x97'"
      ]
     },
     "execution_count": 5,
     "metadata": {},
     "output_type": "execute_result"
    }
   ],
   "source": [
    "# Getting private key:\n",
    "pbk = key.exportKey('DER')\n",
    "pbk"
   ]
  },
  {
   "cell_type": "code",
   "execution_count": 6,
   "metadata": {},
   "outputs": [
    {
     "data": {
      "text/plain": [
       "<_RSAobj @0x7fb2b00db550 n(2048),e>"
      ]
     },
     "execution_count": 6,
     "metadata": {},
     "output_type": "execute_result"
    }
   ],
   "source": [
    "key.publickey()"
   ]
  },
  {
   "cell_type": "code",
   "execution_count": 7,
   "metadata": {},
   "outputs": [
    {
     "data": {
      "text/plain": [
       "b'0\\x82\\x01\"0\\r\\x06\\t*\\x86H\\x86\\xf7\\r\\x01\\x01\\x01\\x05\\x00\\x03\\x82\\x01\\x0f\\x000\\x82\\x01\\n\\x02\\x82\\x01\\x01\\x00\\x9f\\\\$\\x9b}$!ju_\\r\\x0fQ\\xea\\xda\\xc5\\xd05(\\xc7*%\\x13\\x96\\xcd=56\\xd9$\\xb1\\xc4)\\xc6\\x85b\"\\x17m\\xadw\\xb7\\x95ON\\xb5\\xbd\\x90\\xff\\xd9\\xf0-\\xfb\\xcb\\x810\\x9d\\x00[vg\\x00\\x01\\xf0\\xcb4q\\xf6;{}\\xa6j\\x01j\\x93\\xb2\\xc8\\xa2j\\xcb \\xb18\\xc7\\x1e24:k\\xd2eK\\xc0zR7\\xcbj.\\\\}_\\x16^\\xc2\\x92\\x8d\\xf0Ue\\x8aW_\\xee\\x82\\x0e\\xb1a\\xb8&\\xd1QH\\xb55\\xf6]c\\x9d_J\\xe0)\\xdd\\xfe| \\xa6bvr\\xf5\\x06\\xf2i\\x99\\xab3\\xf0.\\xf9\\xfbA\\x90\\xc0\\x08\\x8f\\x07ln\\xc5wm \\x05\\x90\\xd53D\\xd0d\\rP@0\\'\\x1d\\x80\\x13\\xe0\\xee\\x08\\xf7\\x0e\\xa7\\xc7\\x13\\x88\\xcd\\xa6]\\x05F\\xa50m\\xcd-\\xbf\\xcf\\xfd\\xc8\\x12\\xf0\\x1e\\x94k\\xaa2x\\xfaX\\xbe\\x9c\\x0b81\\xc1M\\x18\\x94q\\xe7\\xa8\\xac\\x15\\x84\\xf2uwq]\\x82u\\x1f\\x03\\xb7\\xda\\x86\\xef\\x14\\x16\\x1fO\\xdao>Z\\xbc\\xf0:\\x11\\xa1\\xebu\\x02\\x03\\x01\\x00\\x01'"
      ]
     },
     "execution_count": 7,
     "metadata": {},
     "output_type": "execute_result"
    }
   ],
   "source": [
    "# Getting public key:\n",
    "pvk = key.publickey().exportKey('DER')\n",
    "pvk"
   ]
  },
  {
   "cell_type": "markdown",
   "metadata": {},
   "source": [
    "# SHA module"
   ]
  },
  {
   "cell_type": "markdown",
   "metadata": {},
   "source": [
    "SHA is a hashing function."
   ]
  },
  {
   "cell_type": "code",
   "execution_count": 9,
   "metadata": {},
   "outputs": [
    {
     "data": {
      "text/plain": [
       "<Crypto.Hash.SHA.SHA1Hash at 0x7fb2c01d1610>"
      ]
     },
     "execution_count": 9,
     "metadata": {},
     "output_type": "execute_result"
    }
   ],
   "source": [
    "h = SHA.new()\n",
    "h"
   ]
  },
  {
   "cell_type": "code",
   "execution_count": 10,
   "metadata": {},
   "outputs": [
    {
     "data": {
      "text/plain": [
       "'da39a3ee5e6b4b0d3255bfef95601890afd80709'"
      ]
     },
     "execution_count": 10,
     "metadata": {},
     "output_type": "execute_result"
    }
   ],
   "source": [
    "h.hexdigest()"
   ]
  },
  {
   "cell_type": "code",
   "execution_count": 11,
   "metadata": {},
   "outputs": [
    {
     "data": {
      "text/plain": [
       "bytes"
      ]
     },
     "execution_count": 11,
     "metadata": {},
     "output_type": "execute_result"
    }
   ],
   "source": [
    "type(b'Hello')"
   ]
  },
  {
   "cell_type": "markdown",
   "metadata": {},
   "source": [
    "How to use `h.update`:\n",
    "> Continue hashing of a message by consuming the next chunk of data.\n",
    "> Repeated calls are equivalent to a single call with the concatenation\n",
    "of all the arguments"
   ]
  },
  {
   "cell_type": "code",
   "execution_count": 12,
   "metadata": {},
   "outputs": [
    {
     "data": {
      "text/plain": [
       "'f7ff9e8b7bb2e09b70935a5d785e0cc5d9d0abf0'"
      ]
     },
     "execution_count": 12,
     "metadata": {},
     "output_type": "execute_result"
    }
   ],
   "source": [
    "h.update(b'Hello')\n",
    "h.hexdigest()"
   ]
  },
  {
   "cell_type": "markdown",
   "metadata": {},
   "source": [
    "So the above code is strictly equivalent to:"
   ]
  },
  {
   "cell_type": "code",
   "execution_count": 13,
   "metadata": {},
   "outputs": [
    {
     "data": {
      "text/plain": [
       "'f7ff9e8b7bb2e09b70935a5d785e0cc5d9d0abf0'"
      ]
     },
     "execution_count": 13,
     "metadata": {},
     "output_type": "execute_result"
    }
   ],
   "source": [
    "SHA.new(b'Hello').hexdigest()"
   ]
  },
  {
   "cell_type": "code",
   "execution_count": null,
   "metadata": {},
   "outputs": [],
   "source": []
  }
 ],
 "metadata": {
  "kernelspec": {
   "display_name": "Python 3",
   "language": "python",
   "name": "python3"
  },
  "language_info": {
   "codemirror_mode": {
    "name": "ipython",
    "version": 3
   },
   "file_extension": ".py",
   "mimetype": "text/x-python",
   "name": "python",
   "nbconvert_exporter": "python",
   "pygments_lexer": "ipython3",
   "version": "3.7.8"
  },
  "toc": {
   "base_numbering": 1,
   "nav_menu": {},
   "number_sections": true,
   "sideBar": true,
   "skip_h1_title": false,
   "title_cell": "Table of Contents",
   "title_sidebar": "Contents",
   "toc_cell": false,
   "toc_position": {},
   "toc_section_display": true,
   "toc_window_display": false
  },
  "varInspector": {
   "cols": {
    "lenName": 16,
    "lenType": 16,
    "lenVar": 40
   },
   "kernels_config": {
    "python": {
     "delete_cmd_postfix": "",
     "delete_cmd_prefix": "del ",
     "library": "var_list.py",
     "varRefreshCmd": "print(var_dic_list())"
    },
    "r": {
     "delete_cmd_postfix": ") ",
     "delete_cmd_prefix": "rm(",
     "library": "var_list.r",
     "varRefreshCmd": "cat(var_dic_list()) "
    }
   },
   "types_to_exclude": [
    "module",
    "function",
    "builtin_function_or_method",
    "instance",
    "_Feature"
   ],
   "window_display": false
  }
 },
 "nbformat": 4,
 "nbformat_minor": 4
}
