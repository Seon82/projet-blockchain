{
 "cells": [
  {
   "cell_type": "code",
   "execution_count": 44,
   "metadata": {},
   "outputs": [],
   "source": [
    "from collections import OrderedDict\n",
    "from collections import namedtuple\n",
    "\n",
    "import binascii\n",
    "\n",
    "import Crypto\n",
    "import Crypto.Random\n",
    "from Crypto.Hash import SHA\n",
    "from Crypto.PublicKey import RSA\n",
    "from Crypto.Signature import PKCS1_v1_5\n",
    "\n",
    "import hashlib\n",
    "import json\n",
    "from time import time\n",
    "from urllib.parse import urlparse\n",
    "from uuid import uuid4\n",
    "\n",
    "import requests\n",
    "from flask import Flask, jsonify, request, render_template\n",
    "# from flask_cors import CORS"
   ]
  },
  {
   "cell_type": "code",
   "execution_count": 45,
   "metadata": {},
   "outputs": [],
   "source": [
    "Point = namedtuple('Point', ['x', 'y'])"
   ]
  },
  {
   "cell_type": "code",
   "execution_count": 46,
   "metadata": {},
   "outputs": [],
   "source": [
    "p = Point(1, 2)"
   ]
  },
  {
   "cell_type": "code",
   "execution_count": 47,
   "metadata": {},
   "outputs": [
    {
     "ename": "TypeError",
     "evalue": "tuple indices must be integers or slices, not str",
     "output_type": "error",
     "traceback": [
      "\u001b[0;31m---------------------------------------------------------------------------\u001b[0m",
      "\u001b[0;31mTypeError\u001b[0m                                 Traceback (most recent call last)",
      "\u001b[0;32m<ipython-input-47-09552e6c544a>\u001b[0m in \u001b[0;36m<module>\u001b[0;34m()\u001b[0m\n\u001b[0;32m----> 1\u001b[0;31m \u001b[0mp\u001b[0m\u001b[0;34m[\u001b[0m\u001b[0;34m'x'\u001b[0m\u001b[0;34m]\u001b[0m\u001b[0;34m\u001b[0m\u001b[0;34m\u001b[0m\u001b[0m\n\u001b[0m",
      "\u001b[0;31mTypeError\u001b[0m: tuple indices must be integers or slices, not str"
     ]
    }
   ],
   "source": [
    "p['x']"
   ]
  },
  {
   "cell_type": "markdown",
   "metadata": {},
   "source": [
    "# RSA module"
   ]
  },
  {
   "cell_type": "markdown",
   "metadata": {},
   "source": [
    "RSA is an asymmetric cryptographic function."
   ]
  },
  {
   "cell_type": "code",
   "execution_count": 5,
   "metadata": {
    "scrolled": true
   },
   "outputs": [
    {
     "data": {
      "text/plain": [
       "<_RSAobj @0x7fdb500daa10 n(2048),e,d,p,q,u,private>"
      ]
     },
     "execution_count": 5,
     "metadata": {},
     "output_type": "execute_result"
    }
   ],
   "source": [
    "key = RSA.generate(2048) # generates a key using RSA with n = 2048 bits\n",
    "key"
   ]
  },
  {
   "cell_type": "code",
   "execution_count": 39,
   "metadata": {},
   "outputs": [
    {
     "data": {
      "text/plain": [
       "b'68656c6c6f'"
      ]
     },
     "execution_count": 39,
     "metadata": {},
     "output_type": "execute_result"
    }
   ],
   "source": [
    "bin_hex = binascii.b2a_hex(b'hello')\n",
    "bin_hex"
   ]
  },
  {
   "cell_type": "code",
   "execution_count": 40,
   "metadata": {},
   "outputs": [
    {
     "data": {
      "text/plain": [
       "b'hello'"
      ]
     },
     "execution_count": 40,
     "metadata": {},
     "output_type": "execute_result"
    }
   ],
   "source": [
    "binascii.unhexlify(bin_hex)"
   ]
  },
  {
   "cell_type": "code",
   "execution_count": 43,
   "metadata": {
    "scrolled": true
   },
   "outputs": [
    {
     "data": {
      "text/plain": [
       "b'0\\x82\\x04\\xa3\\x02\\x01\\x00\\x02\\x82\\x01\\x01\\x00\\x9b\\xee\\x0b\\x9a\\xd6\\xed\\x14\\'\\x8fr\\x0fl\\xb8s\\x89|B\\xc1\\xea\\xb0[S\\x9e\\xf7\\xdb\\x86]\\x88\\xd9\\xb5+?\\x03SoS{\\x1e\\xbe\\xbel\\xe0h\\xe4W\\xc2qk\\xe3\\x16\\xcdu\\xb2\\xe32\\xc8\\x9aI\\xd5\\x85&\\xb0\\xc0\\x8e\\xe6\\xac\\xef\\xf1\\xf8n\\xf24\\x172KD*:%X\\x80\\x11\\x0c\\xad\\nx\\xf1\\x19\\x1d(\\xa6\\xb6\\xa4\\xc9\\xed\\x15\\x99\\xda\\x81\\xb2\\xf1^llt\\x07\\x06\\x8c\\x10~\\xf0R\\xd6\\xa6+\\x98mh\\xe6\\x14X.\\xbe\\x9c\\xe2r\\x8d\\n?\\xb1\\xb3\\x16\\xd798\\xae\\x9b\\xf6s\\x0c\\x1d,I(\\xb27\\xd0\\x98\\xbf\\xa8\\x8c\\x93\\xc0IV\\xd4\\xb3?\\xe6\\x14=\\xc0\\xff4\\x7f\\xe6G\\x9fR\\x89uZJH\\x9cg1\\xfcS\\xff\\xbcD\\x1d\\xf2\\x10JnC\\x19N\\x16\\xe2\\x9ez\\x0eX6\\xea\\x1d\\xe7\\xc3\\xdf\\'\\xc0\\xec\\x0f\\x8d\\xe7=3\\xfb\\xbaHG\\x8fT\\x9a\\xd9J\\xd1\\x19F\\x02\\x03\\xf3\\xb4\\x9e@\\xf7\\x12U\\xe3<N\\xa0\\xd2\\xa9u\\x18\\xc4{N8Y\\x05a\\xf5\\xd9\\xd4\\xab\\xa7\\'8/:\\x01\\x02\\x03\\x01\\x00\\x01\\x02\\x82\\x01\\x01\\x00\\x93Y\\r*R\\xb3Q\\xfaX9&\\x8eLw\\x11\\x92\\x94\\xda\\xfeU\\x8c\\xd7\\xa6>\\xfd\\xf9(\\xe6+$b+w\\x8f\\x1e\\x82:\\xb4@\\xf7]\\x97jGm\\x0e\\xd7se\\xf2\\xa4P\\xf6\\xaco\\xce\\xd4\\xcd\\xb4\\xb1\\xd0o\\xf2f\\x97a\\x10\\x95\\rxy\\xf3\\xf3\\x7f\\x99T^\\xba\\xf7\\x93{\\xe1\\xa0\\xa2\\xdcd\\x91 tGw\\xd2\\xdcA\\xdc\\x82/\\x13&\\xc0\\xdc\\t\\xa8W\\x8c\\x05\\x1f\\x90\\xb7\\xfd\\xdcG\\xcb\\x82\\xd7k\\x80\\xe8A\\x934\\th\"\\x84rO\\x07\\xc7\\x19\\xae\\xd2\\x83\\xdf\\xf9\\xcb\\x0e\\xefc\\xb8D\\xa3c\\x84\\xc9\\xad\\x13\\xd0\\xaf\\xb9\\xe7\\x8fZt!\\xe5\\x07B\\xc2l-\\x0bU\\xcfp\\x90\\x91j\\xa6\\xc9\\xe44\\xcdA\\x98 \\x99\\xef\\x1a\\xceL\\xfd.x_]\\xf57\\x1a\\x92\\xf3\\x8fi\\xfb\\x93\\xd3}\\x11\\xfa\\x01\\x81QD8\\x928\\xb0\\xdaC\\xd9\\xf8\\x93\\xbdd\\xab\\x0f\\xf6\\xb6k\\xa1C\\xfd\\xd0\\xf1\\x9d|\\xd3^\\xb4\\xc6\\xed\\xae\\xf4\\x07\\x1b(\\xc3j\\xc5\\xe7\\x11\\xcdgrQ\\xc9-\\xcc\\xe2\\xe1\\x04\\x97\\xbb2\\xc4\\xc9\\x02\\x81\\x81\\x00\\xb6?\\xfe\\xeb\\xb1\\x11X\\xe4\\xf7m\\x92/\\'\\xaf\\xdfo\\xa6\\xd3\\xb8\\x06X\\xbc\\x1c\\x10q\\'\\xd9M\\x15^\\xc6-\\xe2\\x84O\\xb0\\xab\\xfd\\x88\\xf5\\x94\\xf7\\x7f\\xfaK\\xf6\\x8d\\xce^p\\xd8CN)\\xf9B\\xe0!\\xe5~\\xa2B\\xd8T6)v7?\\xd3\\x84\\xb0\\xbdL\\xf8o\\x84\\xc1^\\x9f\\xbc\\x95\\xe1\\xcb$\\x81\\xb7\\xe9\\xf8GU\\xfd\\xae\\xb1z\\xe9c\\xf4\\x7f\\xe0\\xdf\\xbey\\xfem\\x19X\\xe7\\xdaJ\\xbd>\\x1a\\xdc\\xa8\\x15g\\x97\\x03\\xa4\\t\\xc65\\x88B\\x9f\\xd2c\\x02\\x81\\x81\\x00\\xdb\\x07qwc[v\\xcf\\xeeb\\xb0D\\xcd\\xe2\\xf6\\r\\x8c\\x85\"u\\xeeWT\\xe7#L\\x98ZH#\\x9a\\xa4\\\\&\\x03K\\'8>\\x81K\\xa8\\xe1?\\xcf\\x88\\x9f\\xd8\\x99\\xcez\\xb2b\\xd3\\xd9\\x0c8\\xc9\\xc3=\\x05fh\\x8d\\x9b\\x80\\xa0\\xed\\xdcVQ\\xb4?\\x19\\xae_=\\xc8\\x04S\\x83\\x14\\x8e\\x08\\xcfd\\xe1)D\\x01\\x8c\\\\<-\\xd7\\xc1,1O\\xf4\\xf6)\\x08,\\xa9\\x9d\\xb3\\x97\\xa5$\\xe9\\x80h\\xad\\x0c\\xf2\\'\\x11\\x14\\x87\\x1f\\xda:&\\xe0I=K\\x02\\x81\\x80v\\x81\\nKK)\\x92y\\xdf\\x819\\xca\\xbb\\xad\\x9aE\\xc9^e\\x8c\\x8a\\xeaU\\xfdB\\xf6\\xbcOi\\x13\\xe5\\x1d4\\xea\\xff\\xbeK7bt\\xfdV)\\xbb \\xe5\\xc2\\xb3k\\xa9H\\x96\\x0b\\x1f3\\xdb\\x0eN<!\\xa9ty\\xa1\\xd8N\\x01vOdD%\\x80\\x11\\xaa\\x81(\\xfbk\\x81\\xc6hW\\x17v7z\\xd5\\x02\\x01\\xb0\\xa2q\\x93)\\xee\\xd4u\\xc9(\\xf9\\x93\\xabS\\x8a\\xb1.\\xa4#\\xc6\\xf1b\\x8e\\xa8\\xe8\\nr\\xff8\\xf8\\xd2\\xfa5\\x18\\xd2\\xe9\\x85-\\x02\\x81\\x80J\\x0fj>\\x84J\\x19\\x12\\x95\\xf8\\xa8\\xc1\\x9b\\x1cs6\\x81\\x9dB\\xd9\\xbd\\x8d\\xaa\\x17\\xbd\\xc7\\xd8|.\\x88[q\\xd7\\xf6\\xc2\\x86V\\xec\\x9d\\xb5\\xfaoP:\\xd3a\\xcf*\\xdeW\\x03\\x05\\xee\\x84\\xd3\\x8f^dZ\\xaf\\xf7syF\\xe8\\x9d\\xc5\\xcc\\xa8\\x04G\\xfc:\\x99\\xe4l/\\xe7\\xc2\\x0e\\xba\\xf3\\xe8R\\xf2M\\x9a\\x14\\xe9\\xf9\\xdc\\x0c\\x14\\r,7\\x15JWN\\xed-R\\xa6Gt\\x1b\\x95\\xdb1p\\x03\\x0ba\\xf8N\\xa9\\x07\\ry\\xe3;W\\x0en(U\\xa1\\x02\\x81\\x80p!\\x8cC\\x84\\xfe[9\\xb5\\x80\\x18?]\\xc9-)y\\xa2\\xde\\xf5\\xa9R\\xdd\\xea\\x9b\\xf5^\\rm\\xe5x\\xe5\\x01D8?\\x1eh\\xc4\\x1fJ\\xf2\\xae1\\x86A~\\x04\\x07Fn\\xfaR\\x19\\x9b\\x1c\\xa9l\\x8f\\xb5\\x08\\x86\\xba\\xbdP\\x11__)\\xfd^=x\\xb7M\\xbd\\xe6\\xab\\'\\xedYcbm\\xcf\\xa7h+\\xffS\\xbe\\xcb5\\x9b\\xeaQ\\x8a\\xdd\\xf8v\\xadpl!\\xb1\\xdc\\xebi\\x12c\\x85S\\xf9\\xc9B4w\\x99\\xab\\x16\\x97\\x0e\\xe8\\xda\\x0euW\\x8c'"
      ]
     },
     "execution_count": 43,
     "metadata": {},
     "output_type": "execute_result"
    }
   ],
   "source": [
    "key = key.exportKey('DER')\n",
    "key"
   ]
  },
  {
   "cell_type": "code",
   "execution_count": 10,
   "metadata": {},
   "outputs": [],
   "source": [
    "def verify_transaction_signature(self, sender_address, signature, transaction):\n",
    "        \"\"\"\n",
    "        Check that the provided signature corresponds to transaction\n",
    "        signed by the public key (sender_address)\n",
    "        \"\"\"\n",
    "        public_key = RSA.importKey(binascii.unhexlify(sender_address))\n",
    "        verifier = PKCS1_v1_5.new(public_key)\n",
    "        h = SHA.new(str(transaction).encode('utf8'))\n",
    "        return verifier.verify(h, binascii.unhexlify(signature))"
   ]
  },
  {
   "cell_type": "markdown",
   "metadata": {},
   "source": [
    "# SHA module"
   ]
  },
  {
   "cell_type": "markdown",
   "metadata": {},
   "source": [
    "SHA is a hashing function."
   ]
  },
  {
   "cell_type": "code",
   "execution_count": 32,
   "metadata": {},
   "outputs": [
    {
     "data": {
      "text/plain": [
       "<Crypto.Hash.SHA.SHA1Hash at 0x7fdb68135bd0>"
      ]
     },
     "execution_count": 32,
     "metadata": {},
     "output_type": "execute_result"
    }
   ],
   "source": [
    "h = SHA.new()\n",
    "h"
   ]
  },
  {
   "cell_type": "code",
   "execution_count": 33,
   "metadata": {},
   "outputs": [
    {
     "data": {
      "text/plain": [
       "'da39a3ee5e6b4b0d3255bfef95601890afd80709'"
      ]
     },
     "execution_count": 33,
     "metadata": {},
     "output_type": "execute_result"
    }
   ],
   "source": [
    "h.hexdigest()"
   ]
  },
  {
   "cell_type": "code",
   "execution_count": 34,
   "metadata": {},
   "outputs": [
    {
     "data": {
      "text/plain": [
       "bytes"
      ]
     },
     "execution_count": 34,
     "metadata": {},
     "output_type": "execute_result"
    }
   ],
   "source": [
    "type(b'Hello')"
   ]
  },
  {
   "cell_type": "markdown",
   "metadata": {},
   "source": [
    "How to use `h.update`:\n",
    "> Continue hashing of a message by consuming the next chunk of data.\n",
    "> Repeated calls are equivalent to a single call with the concatenation\n",
    "of all the arguments"
   ]
  },
  {
   "cell_type": "code",
   "execution_count": 35,
   "metadata": {},
   "outputs": [
    {
     "data": {
      "text/plain": [
       "'f7ff9e8b7bb2e09b70935a5d785e0cc5d9d0abf0'"
      ]
     },
     "execution_count": 35,
     "metadata": {},
     "output_type": "execute_result"
    }
   ],
   "source": [
    "h.update(b'Hello')\n",
    "h.hexdigest()"
   ]
  },
  {
   "cell_type": "markdown",
   "metadata": {},
   "source": [
    "So the above code is strictly equivalent to:"
   ]
  },
  {
   "cell_type": "code",
   "execution_count": 36,
   "metadata": {},
   "outputs": [
    {
     "data": {
      "text/plain": [
       "'f7ff9e8b7bb2e09b70935a5d785e0cc5d9d0abf0'"
      ]
     },
     "execution_count": 36,
     "metadata": {},
     "output_type": "execute_result"
    }
   ],
   "source": [
    "SHA.new(b'Hello').hexdigest()"
   ]
  },
  {
   "cell_type": "code",
   "execution_count": null,
   "metadata": {},
   "outputs": [],
   "source": []
  }
 ],
 "metadata": {
  "kernelspec": {
   "display_name": "Python 3",
   "language": "python",
   "name": "python3"
  },
  "language_info": {
   "codemirror_mode": {
    "name": "ipython",
    "version": 3
   },
   "file_extension": ".py",
   "mimetype": "text/x-python",
   "name": "python",
   "nbconvert_exporter": "python",
   "pygments_lexer": "ipython3",
   "version": "3.7.8"
  },
  "toc": {
   "base_numbering": 1,
   "nav_menu": {},
   "number_sections": true,
   "sideBar": true,
   "skip_h1_title": false,
   "title_cell": "Table of Contents",
   "title_sidebar": "Contents",
   "toc_cell": false,
   "toc_position": {},
   "toc_section_display": true,
   "toc_window_display": false
  },
  "varInspector": {
   "cols": {
    "lenName": 16,
    "lenType": 16,
    "lenVar": 40
   },
   "kernels_config": {
    "python": {
     "delete_cmd_postfix": "",
     "delete_cmd_prefix": "del ",
     "library": "var_list.py",
     "varRefreshCmd": "print(var_dic_list())"
    },
    "r": {
     "delete_cmd_postfix": ") ",
     "delete_cmd_prefix": "rm(",
     "library": "var_list.r",
     "varRefreshCmd": "cat(var_dic_list()) "
    }
   },
   "types_to_exclude": [
    "module",
    "function",
    "builtin_function_or_method",
    "instance",
    "_Feature"
   ],
   "window_display": false
  }
 },
 "nbformat": 4,
 "nbformat_minor": 4
}
