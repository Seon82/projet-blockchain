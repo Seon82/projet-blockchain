{
 "cells": [
  {
   "cell_type": "code",
   "execution_count": 5,
   "metadata": {},
   "outputs": [],
   "source": [
    "import hashlib \n",
    "\n",
    "import sys\n",
    "module_path = '..'\n",
    "if module_path not in sys.path:\n",
    "    sys.path.append(module_path)"
   ]
  },
  {
   "cell_type": "code",
   "execution_count": 53,
   "metadata": {},
   "outputs": [],
   "source": [
    "class Merkleroot(object):\n",
    "    def __init__(self):\n",
    "        pass\n",
    "    \n",
    "    @staticmethod\n",
    "    def doubleSha256(input):\n",
    "        return hashlib.sha256(hashlib.sha256(input).hexdigest().encode()).hexdigest()\n",
    "    \n",
    "    def findMerkleRoot(self, leafHash):\n",
    "        hash = []\n",
    "        hash2 = []\n",
    "        \n",
    "        if len(leafHash) % 2 != 0:                             ##if not even, repeat the last element\n",
    "            leafHash.extend(leafHash[-1:])\n",
    "        \n",
    "        for leaf in sorted(leafHash):                         ##for each leaf\n",
    "            hash.append(leaf)\n",
    "            if len(hash) % 2 == 0:                            ##only add secondary hash if there are two first hash\n",
    "                hash_concat = hash[0] + hash[1]\n",
    "                hash2.append(self.doubleSha256(hash_concat.encode()))   ##run through hash func for both hashes\n",
    "                hash == []                                    ##reset first hash to empty\n",
    "        if len(hash2) == 1:                                   ##if secondary hash is only one, we are the root\n",
    "            return hash2[0]\n",
    "        else:\n",
    "            return self.findMerkleRoot(hash2)                 ##if not, recurse with hash2"
   ]
  },
  {
   "cell_type": "code",
   "execution_count": 54,
   "metadata": {},
   "outputs": [],
   "source": [
    "transactions = ['a', 'b', 'c', 'd', 'e']\n",
    "leafHash = []"
   ]
  },
  {
   "cell_type": "code",
   "execution_count": 55,
   "metadata": {},
   "outputs": [],
   "source": [
    "##compute a list of hashes from transactions\n",
    "for trans in transactions:\n",
    "    leafHash.append(Merkleroot.doubleSha256(trans.encode()))"
   ]
  },
  {
   "cell_type": "code",
   "execution_count": 56,
   "metadata": {},
   "outputs": [
    {
     "data": {
      "text/plain": [
       "['da3811154d59c4267077ddd8bb768fa9b06399c486e1fc00485116b57c9872f5',\n",
       " 'dba1de6de88c058e5e0922171e0bd97e79e20e9fc6c1d2737a91146765527305',\n",
       " 'c8623e984cf78e0f3a959827b540a5cdbe4da246f5302ec8de4270300cf724c1',\n",
       " 'd5fb46b830284b74f779bd39b16f254497a2ad46a098c14470a317f0a9d01ac8',\n",
       " 'ef5960718ca91ca07e63f1d1cf5320ad3c8f923d481c1f8c873aa987e1d6e1f6']"
      ]
     },
     "execution_count": 56,
     "metadata": {},
     "output_type": "execute_result"
    }
   ],
   "source": [
    "leafHash"
   ]
  },
  {
   "cell_type": "code",
   "execution_count": 57,
   "metadata": {},
   "outputs": [
    {
     "data": {
      "text/plain": [
       "'a2fbe3e7b1ea35e98c99caf52a55dea837670ca998dbbb52a09c4e2ec511c933'"
      ]
     },
     "execution_count": 57,
     "metadata": {},
     "output_type": "execute_result"
    }
   ],
   "source": [
    "mr = Merkleroot()\n",
    "mr.findMerkleRoot(leafHash)"
   ]
  },
  {
   "cell_type": "code",
   "execution_count": null,
   "metadata": {},
   "outputs": [],
   "source": []
  }
 ],
 "metadata": {
  "kernelspec": {
   "display_name": "Python 3",
   "language": "python",
   "name": "python3"
  },
  "language_info": {
   "codemirror_mode": {
    "name": "ipython",
    "version": 3
   },
   "file_extension": ".py",
   "mimetype": "text/x-python",
   "name": "python",
   "nbconvert_exporter": "python",
   "pygments_lexer": "ipython3",
   "version": "3.8.5"
  },
  "toc": {
   "base_numbering": 1,
   "nav_menu": {},
   "number_sections": true,
   "sideBar": true,
   "skip_h1_title": false,
   "title_cell": "Table of Contents",
   "title_sidebar": "Contents",
   "toc_cell": false,
   "toc_position": {},
   "toc_section_display": true,
   "toc_window_display": false
  },
  "varInspector": {
   "cols": {
    "lenName": 16,
    "lenType": 16,
    "lenVar": 40
   },
   "kernels_config": {
    "python": {
     "delete_cmd_postfix": "",
     "delete_cmd_prefix": "del ",
     "library": "var_list.py",
     "varRefreshCmd": "print(var_dic_list())"
    },
    "r": {
     "delete_cmd_postfix": ") ",
     "delete_cmd_prefix": "rm(",
     "library": "var_list.r",
     "varRefreshCmd": "cat(var_dic_list()) "
    }
   },
   "types_to_exclude": [
    "module",
    "function",
    "builtin_function_or_method",
    "instance",
    "_Feature"
   ],
   "window_display": false
  }
 },
 "nbformat": 4,
 "nbformat_minor": 4
}
